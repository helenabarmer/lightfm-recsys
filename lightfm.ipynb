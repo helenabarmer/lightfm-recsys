{
 "cells": [
  {
   "cell_type": "markdown",
   "metadata": {},
   "source": [
    "# LightFM\n",
    "\n",
    "* Hybrid model (content based and collaborative filtering)\n",
    "\n",
    "## Installation\n",
    "`conda install -c conda-forge lightfm`"
   ]
  },
  {
   "cell_type": "code",
   "execution_count": 246,
   "metadata": {},
   "outputs": [
    {
     "name": "stdout",
     "output_type": "stream",
     "text": [
      "Libraries imported\n"
     ]
    }
   ],
   "source": [
    "from lightfm import LightFM\n",
    "import numpy as np\n",
    "from lightfm.datasets import fetch_movielens\n",
    "\n",
    "print(\"Libraries imported\")"
   ]
  },
  {
   "cell_type": "code",
   "execution_count": 247,
   "metadata": {},
   "outputs": [
    {
     "name": "stdout",
     "output_type": "stream",
     "text": [
      "train\n",
      "test\n",
      "item_features\n",
      "item_feature_labels\n",
      "item_labels\n"
     ]
    }
   ],
   "source": [
    "# Fetch LightFM dataset movielens\n",
    "data = fetch_movielens(min_rating=4.0)\n",
    "\n",
    "for i in data:\n",
    "    print(i)"
   ]
  },
  {
   "cell_type": "code",
   "execution_count": 248,
   "metadata": {},
   "outputs": [
    {
     "name": "stdout",
     "output_type": "stream",
     "text": [
      "1: Toy Story (1995)\n",
      "2: GoldenEye (1995)\n",
      "3: Four Rooms (1995)\n",
      "4: Get Shorty (1995)\n",
      "5: Copycat (1995)\n"
     ]
    }
   ],
   "source": [
    "# Example of item_feature_labels\n",
    "count = 0;\n",
    "for i in data['item_feature_labels']:\n",
    "    if(count <5):\n",
    "        print(f'{count+1}: {i}')\n",
    "        count+=1"
   ]
  },
  {
   "cell_type": "code",
   "execution_count": 249,
   "metadata": {},
   "outputs": [
    {
     "name": "stdout",
     "output_type": "stream",
     "text": [
      "TRAIN:  <943x1682 sparse matrix of type '<class 'numpy.int32'>'\n",
      "\twith 49906 stored elements in COOrdinate format> \n",
      "\n",
      "TEST:  <943x1682 sparse matrix of type '<class 'numpy.int32'>'\n",
      "\twith 5469 stored elements in COOrdinate format> \n",
      "\n",
      "TYPE:  <class 'scipy.sparse.coo.coo_matrix'>\n"
     ]
    }
   ],
   "source": [
    "print('TRAIN: ', repr(data['train']), '\\n\\nTEST: ', repr(data['test']),\n",
    "     '\\n\\nTYPE: ', type(data['train']))"
   ]
  },
  {
   "cell_type": "code",
   "execution_count": 250,
   "metadata": {},
   "outputs": [],
   "source": [
    "train = data['train']\n",
    "test = data['test']"
   ]
  },
  {
   "cell_type": "markdown",
   "metadata": {},
   "source": [
    "## Traditional collaborative filtering model "
   ]
  },
  {
   "cell_type": "code",
   "execution_count": 251,
   "metadata": {},
   "outputs": [
    {
     "name": "stdout",
     "output_type": "stream",
     "text": [
      "Wall time: 5.72 s\n"
     ]
    }
   ],
   "source": [
    "NUM_THREADS = 2\n",
    "EPOCHS = 50\n",
    "\n",
    "# Create model\n",
    "model = LightFM(loss='warp')\n",
    "\n",
    "# Start training\n",
    "%time model = model.fit(train, epochs=EPOCHS, num_threads=NUM_THREADS)"
   ]
  },
  {
   "cell_type": "code",
   "execution_count": 252,
   "metadata": {},
   "outputs": [
    {
     "name": "stdout",
     "output_type": "stream",
     "text": [
      "Collaborative filtering train AUC: 0.9615401\n",
      "Collaborative filtering test AUC: 0.9325669\n"
     ]
    }
   ],
   "source": [
    "# Import the evaluation routines\n",
    "from lightfm.evaluation import auc_score\n",
    "\n",
    "# Compute and print the AUC score, train set\n",
    "train_auc = auc_score(model, train, num_threads=NUM_THREADS).mean()\n",
    "print('Collaborative filtering train AUC: %s' % train_auc)\n",
    "\n",
    "# Compute and print the AUC score, test set\n",
    "test_auc = auc_score(model, test, train_interactions=train, num_threads=NUM_THREADS).mean()\n",
    "print('Collaborative filtering test AUC: %s' % test_auc)"
   ]
  },
  {
   "cell_type": "markdown",
   "metadata": {},
   "source": [
    "## Hybrid model"
   ]
  },
  {
   "cell_type": "code",
   "execution_count": 253,
   "metadata": {},
   "outputs": [],
   "source": [
    "# Item features\n",
    "item_features = data['item_features']\n",
    "\n",
    "# Define model \n",
    "hybrid_model = LightFM(loss='warp')\n",
    "\n",
    "# Fit the hybrid model. Note that this time, we pass\n",
    "# in the item features matrix.\n",
    "hybrid_model = hybrid_model.fit(train,\n",
    "                item_features=item_features,\n",
    "                epochs=EPOCHS,\n",
    "                num_threads=NUM_THREADS)"
   ]
  },
  {
   "cell_type": "code",
   "execution_count": 254,
   "metadata": {},
   "outputs": [
    {
     "name": "stdout",
     "output_type": "stream",
     "text": [
      "Hybrid training set AUC: 0.9609723\n"
     ]
    }
   ],
   "source": [
    "train_auc = auc_score(hybrid_model,\n",
    "                      train,\n",
    "                      item_features=item_features,\n",
    "                      num_threads=NUM_THREADS).mean()\n",
    "print('Hybrid training set AUC: %s' % train_auc)"
   ]
  },
  {
   "cell_type": "code",
   "execution_count": 255,
   "metadata": {},
   "outputs": [
    {
     "name": "stdout",
     "output_type": "stream",
     "text": [
      "Hybrid test set AUC: 0.93419915\n"
     ]
    }
   ],
   "source": [
    "test_auc = auc_score(hybrid_model,\n",
    "                    test,\n",
    "                    train_interactions=train,\n",
    "                    item_features=item_features,\n",
    "                    num_threads=NUM_THREADS).mean()\n",
    "print('Hybrid test set AUC: %s' % test_auc)"
   ]
  },
  {
   "cell_type": "markdown",
   "metadata": {},
   "source": [
    "## User recommendation"
   ]
  },
  {
   "cell_type": "code",
   "execution_count": 263,
   "metadata": {},
   "outputs": [],
   "source": [
    "# Users, items\n",
    "n_users, n_items = data['train'].shape"
   ]
  },
  {
   "cell_type": "code",
   "execution_count": 264,
   "metadata": {},
   "outputs": [],
   "source": [
    "# User 351\n",
    "liked_movies = data['item_labels'][data['train'].tocsr()[200].indices]"
   ]
  },
  {
   "cell_type": "code",
   "execution_count": 273,
   "metadata": {},
   "outputs": [
    {
     "data": {
      "text/plain": [
       "array([-5.24551296, -6.95766449, -6.47659969, ..., -8.8270359 ,\n",
       "       -8.99055672, -8.73103142])"
      ]
     },
     "execution_count": 273,
     "metadata": {},
     "output_type": "execute_result"
    }
   ],
   "source": [
    "# User 351\n",
    "scores = hybrid_model.predict(200, np.arange(n_items))\n",
    "scores"
   ]
  },
  {
   "cell_type": "code",
   "execution_count": 274,
   "metadata": {},
   "outputs": [
    {
     "name": "stdout",
     "output_type": "stream",
     "text": [
      "Previous liked movies: Get Shorty (1995)\n",
      "Previous liked movies: Seven (Se7en) (1995)\n",
      "Previous liked movies: Usual Suspects, The (1995)\n",
      "Previous liked movies: Taxi Driver (1976)\n",
      "Previous liked movies: Brothers McMullen, The (1995)\n",
      "\n",
      "\n",
      "Recommended movies: Fargo (1996)\n",
      "Recommended movies: Pulp Fiction (1994)\n",
      "Recommended movies: Godfather, The (1972)\n",
      "Recommended movies: Usual Suspects, The (1995)\n",
      "Recommended movies: GoodFellas (1990)\n"
     ]
    }
   ],
   "source": [
    "top_items = data['item_labels'][np.argsort(-scores)]\n",
    "for i in liked_movies[:5]:\n",
    "    print(f'Previous liked movies: {i}') \n",
    "\n",
    "print('\\n') \n",
    "\n",
    "for x in top_items[:5]:\n",
    "    print(f'Recommended movies: {x}')"
   ]
  },
  {
   "cell_type": "code",
   "execution_count": null,
   "metadata": {},
   "outputs": [],
   "source": []
  },
  {
   "cell_type": "code",
   "execution_count": null,
   "metadata": {},
   "outputs": [],
   "source": []
  }
 ],
 "metadata": {
  "kernelspec": {
   "display_name": "Python 3",
   "language": "python",
   "name": "python3"
  },
  "language_info": {
   "codemirror_mode": {
    "name": "ipython",
    "version": 3
   },
   "file_extension": ".py",
   "mimetype": "text/x-python",
   "name": "python",
   "nbconvert_exporter": "python",
   "pygments_lexer": "ipython3",
   "version": "3.7.7"
  }
 },
 "nbformat": 4,
 "nbformat_minor": 4
}
