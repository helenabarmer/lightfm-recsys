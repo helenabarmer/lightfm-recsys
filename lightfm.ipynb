{
 "cells": [
  {
   "cell_type": "markdown",
   "metadata": {},
   "source": [
    "# LightFM\n",
    "\n",
    "* Hybrid model (content based and collaborative filtering)\n",
    "\n",
    "## Installation\n",
    "`conda install -c conda-forge lightfm`"
   ]
  },
  {
   "cell_type": "code",
   "execution_count": 34,
   "metadata": {},
   "outputs": [
    {
     "name": "stdout",
     "output_type": "stream",
     "text": [
      "Libraries imported\n"
     ]
    }
   ],
   "source": [
    "from lightfm import LightFM\n",
    "import numpy as np\n",
    "import pandas as pd\n",
    "from lightfm.datasets import fetch_movielens\n",
    "import math\n",
    "\n",
    "print(\"Libraries imported\")"
   ]
  },
  {
   "cell_type": "code",
   "execution_count": 3,
   "metadata": {},
   "outputs": [
    {
     "name": "stdout",
     "output_type": "stream",
     "text": [
      "train\n",
      "test\n",
      "item_features\n",
      "item_feature_labels\n",
      "item_labels\n"
     ]
    }
   ],
   "source": [
    "# Fetch LightFM dataset movielens\n",
    "data = fetch_movielens(min_rating=4.0)\n",
    "\n",
    "for i in data:\n",
    "    print(i)"
   ]
  },
  {
   "cell_type": "code",
   "execution_count": 4,
   "metadata": {},
   "outputs": [
    {
     "name": "stdout",
     "output_type": "stream",
     "text": [
      "1: Toy Story (1995)\n",
      "2: GoldenEye (1995)\n",
      "3: Four Rooms (1995)\n",
      "4: Get Shorty (1995)\n",
      "5: Copycat (1995)\n"
     ]
    }
   ],
   "source": [
    "# Example of item_feature_labels\n",
    "count = 0;\n",
    "for i in data['item_feature_labels']:\n",
    "    if(count <5):\n",
    "        print(f'{count+1}: {i}')\n",
    "        count+=1"
   ]
  },
  {
   "cell_type": "code",
   "execution_count": 5,
   "metadata": {},
   "outputs": [
    {
     "name": "stdout",
     "output_type": "stream",
     "text": [
      "TRAIN:  <943x1682 sparse matrix of type '<class 'numpy.int32'>'\n",
      "\twith 49906 stored elements in COOrdinate format> \n",
      "\n",
      "TEST:  <943x1682 sparse matrix of type '<class 'numpy.int32'>'\n",
      "\twith 5469 stored elements in COOrdinate format> \n",
      "\n",
      "TYPE:  <class 'scipy.sparse.coo.coo_matrix'>\n"
     ]
    }
   ],
   "source": [
    "print('TRAIN: ', repr(data['train']), '\\n\\nTEST: ', repr(data['test']),\n",
    "     '\\n\\nTYPE: ', type(data['train']))"
   ]
  },
  {
   "cell_type": "code",
   "execution_count": 6,
   "metadata": {},
   "outputs": [],
   "source": [
    "train = data['train']\n",
    "test = data['test']"
   ]
  },
  {
   "cell_type": "markdown",
   "metadata": {},
   "source": [
    "## Traditional collaborative filtering model "
   ]
  },
  {
   "cell_type": "code",
   "execution_count": 7,
   "metadata": {},
   "outputs": [
    {
     "name": "stdout",
     "output_type": "stream",
     "text": [
      "Wall time: 5.04 s\n"
     ]
    }
   ],
   "source": [
    "NUM_THREADS = 2\n",
    "EPOCHS = 50\n",
    "\n",
    "# Create model\n",
    "model = LightFM(loss='warp')\n",
    "\n",
    "# Start training\n",
    "%time model = model.fit(train, epochs=EPOCHS, num_threads=NUM_THREADS)"
   ]
  },
  {
   "cell_type": "code",
   "execution_count": 19,
   "metadata": {},
   "outputs": [
    {
     "name": "stdout",
     "output_type": "stream",
     "text": [
      "AUC: 96%\n",
      "AUC: 93%\n"
     ]
    }
   ],
   "source": [
    "# Import the evaluation routines\n",
    "from lightfm.evaluation import auc_score\n",
    "\n",
    "# Compute and print the AUC score, train set\n",
    "train_auc = auc_score(model, train, num_threads=NUM_THREADS).mean()\n",
    "print(f'AUC: {math.trunc(train_auc*100)}%')\n",
    "\n",
    "# Compute and print the AUC score, test set\n",
    "test_auc = auc_score(model, test, train_interactions=train, num_threads=NUM_THREADS).mean()\n",
    "print(f'AUC: {math.trunc(test_auc*100)}%')"
   ]
  },
  {
   "cell_type": "markdown",
   "metadata": {},
   "source": [
    "## Hybrid model"
   ]
  },
  {
   "cell_type": "code",
   "execution_count": 9,
   "metadata": {},
   "outputs": [],
   "source": [
    "# Item features\n",
    "item_features = data['item_features']\n",
    "\n",
    "# Define model \n",
    "hybrid_model = LightFM(loss='warp')\n",
    "\n",
    "# Fit the hybrid model. Note that this time, we pass\n",
    "# in the item features matrix.\n",
    "hybrid_model = hybrid_model.fit(train,\n",
    "                item_features=item_features,\n",
    "                epochs=EPOCHS,\n",
    "                num_threads=NUM_THREADS)"
   ]
  },
  {
   "cell_type": "code",
   "execution_count": 17,
   "metadata": {},
   "outputs": [
    {
     "name": "stdout",
     "output_type": "stream",
     "text": [
      "AUC: 96%\n"
     ]
    }
   ],
   "source": [
    "train_auc = auc_score(hybrid_model,\n",
    "                      train,\n",
    "                      item_features=item_features,\n",
    "                      num_threads=NUM_THREADS).mean()\n",
    "print(f'AUC: {math.trunc(train_auc*100)}%')"
   ]
  },
  {
   "cell_type": "code",
   "execution_count": 20,
   "metadata": {},
   "outputs": [
    {
     "name": "stdout",
     "output_type": "stream",
     "text": [
      "AUC: 93%\n"
     ]
    }
   ],
   "source": [
    "test_auc = auc_score(hybrid_model,\n",
    "                    test,\n",
    "                    train_interactions=train,\n",
    "                    item_features=item_features,\n",
    "                    num_threads=NUM_THREADS).mean()\n",
    "print(f'AUC: {math.trunc(test_auc*100)}%')"
   ]
  },
  {
   "cell_type": "markdown",
   "metadata": {},
   "source": [
    "## User recommendation"
   ]
  },
  {
   "cell_type": "code",
   "execution_count": 22,
   "metadata": {},
   "outputs": [],
   "source": [
    "# Users, items\n",
    "n_users, n_items = data['train'].shape"
   ]
  },
  {
   "cell_type": "code",
   "execution_count": 23,
   "metadata": {},
   "outputs": [],
   "source": [
    "# User 351\n",
    "liked_movies = data['item_labels'][data['train'].tocsr()[200].indices]"
   ]
  },
  {
   "cell_type": "code",
   "execution_count": 24,
   "metadata": {},
   "outputs": [
    {
     "data": {
      "text/plain": [
       "array([-5.76857471, -7.0861845 , -6.53366566, ..., -8.78007603,\n",
       "       -8.84602356, -8.85424137])"
      ]
     },
     "execution_count": 24,
     "metadata": {},
     "output_type": "execute_result"
    }
   ],
   "source": [
    "# User 351\n",
    "scores = hybrid_model.predict(200, np.arange(n_items))\n",
    "scores"
   ]
  },
  {
   "cell_type": "code",
   "execution_count": 32,
   "metadata": {},
   "outputs": [
    {
     "name": "stdout",
     "output_type": "stream",
     "text": [
      "PREVIOUS LIKED MOVIES:\n",
      "* Get Shorty (1995)\n",
      "* Seven (Se7en) (1995)\n",
      "* Usual Suspects, The (1995)\n",
      "* Taxi Driver (1976)\n",
      "* Brothers McMullen, The (1995)\n",
      "\n",
      "\n",
      "RECOMMENDED MOVIES:\n",
      "* Pulp Fiction (1994)\n",
      "* Usual Suspects, The (1995)\n",
      "* Taxi Driver (1976)\n",
      "* GoodFellas (1990)\n",
      "* Fargo (1996)\n"
     ]
    }
   ],
   "source": [
    "top_items = data['item_labels'][np.argsort(-scores)]\n",
    "\n",
    "print('PREVIOUS LIKED MOVIES:') \n",
    "for i in liked_movies[:5]:\n",
    "    print('*',i) \n",
    "\n",
    "print('\\n') \n",
    "\n",
    "print('RECOMMENDED MOVIES:')\n",
    "for x in top_items[:5]:\n",
    "    print('*',x)"
   ]
  },
  {
   "cell_type": "markdown",
   "metadata": {},
   "source": [
    "## External dataset\n",
    "\n",
    "Dataset from [this](https://github.com/oschow/take-a-hike) repo."
   ]
  },
  {
   "cell_type": "code",
   "execution_count": 556,
   "metadata": {},
   "outputs": [],
   "source": [
    "# Data\n",
    "data = 'https://raw.githubusercontent.com/oschow/take-a-hike/master/AllTrails/data/all_ratings_matrix.csv'\n",
    "df = pd.read_csv(data)\n",
    "\n",
    "# Features\n",
    "#data_features = 'https://raw.githubusercontent.com/oschow/take-a-hike/master/AllTrails/data/all_hikes_with_hike_id.csv'\n",
    "data_features = 'https://raw.githubusercontent.com/oschow/take-a-hike/master/AllTrails/data/all_hikes_with_hike_name.csv'\n",
    "df_features = pd.read_csv(data_features)"
   ]
  },
  {
   "cell_type": "code",
   "execution_count": 557,
   "metadata": {},
   "outputs": [
    {
     "data": {
      "text/html": [
       "<div>\n",
       "<style scoped>\n",
       "    .dataframe tbody tr th:only-of-type {\n",
       "        vertical-align: middle;\n",
       "    }\n",
       "\n",
       "    .dataframe tbody tr th {\n",
       "        vertical-align: top;\n",
       "    }\n",
       "\n",
       "    .dataframe thead th {\n",
       "        text-align: right;\n",
       "    }\n",
       "</style>\n",
       "<table border=\"1\" class=\"dataframe\">\n",
       "  <thead>\n",
       "    <tr style=\"text-align: right;\">\n",
       "      <th></th>\n",
       "      <th>hike_name</th>\n",
       "      <th>hike_region</th>\n",
       "      <th>total_distance</th>\n",
       "      <th>elevation_gain</th>\n",
       "      <th>hike_difficulty</th>\n",
       "      <th>stars</th>\n",
       "      <th>hike_id</th>\n",
       "      <th>loop</th>\n",
       "      <th>out_and_back</th>\n",
       "      <th>point_to_point</th>\n",
       "      <th>dog_friendly</th>\n",
       "      <th>kid_friendly</th>\n",
       "      <th>camping</th>\n",
       "      <th>waterfall</th>\n",
       "      <th>river</th>\n",
       "      <th>lake</th>\n",
       "      <th>wildflowers</th>\n",
       "      <th>wildlife</th>\n",
       "      <th>views</th>\n",
       "    </tr>\n",
       "  </thead>\n",
       "  <tbody>\n",
       "    <tr>\n",
       "      <th>1482</th>\n",
       "      <td>Foothills Nature Trail to CCC Shelter</td>\n",
       "      <td>Roosevelt National Forest</td>\n",
       "      <td>2.0</td>\n",
       "      <td>498</td>\n",
       "      <td>1</td>\n",
       "      <td>3.0</td>\n",
       "      <td>hike1482</td>\n",
       "      <td>0</td>\n",
       "      <td>1</td>\n",
       "      <td>0</td>\n",
       "      <td>1</td>\n",
       "      <td>0</td>\n",
       "      <td>0</td>\n",
       "      <td>0</td>\n",
       "      <td>1</td>\n",
       "      <td>0</td>\n",
       "      <td>1</td>\n",
       "      <td>1</td>\n",
       "      <td>1</td>\n",
       "    </tr>\n",
       "    <tr>\n",
       "      <th>1483</th>\n",
       "      <td>Sinton Trail</td>\n",
       "      <td>Roswell, Colorado</td>\n",
       "      <td>5.6</td>\n",
       "      <td>374</td>\n",
       "      <td>1</td>\n",
       "      <td>4.0</td>\n",
       "      <td>hike1483</td>\n",
       "      <td>0</td>\n",
       "      <td>1</td>\n",
       "      <td>0</td>\n",
       "      <td>1</td>\n",
       "      <td>1</td>\n",
       "      <td>0</td>\n",
       "      <td>0</td>\n",
       "      <td>0</td>\n",
       "      <td>0</td>\n",
       "      <td>1</td>\n",
       "      <td>1</td>\n",
       "      <td>1</td>\n",
       "    </tr>\n",
       "    <tr>\n",
       "      <th>1484</th>\n",
       "      <td>Uncompahgre River Walk</td>\n",
       "      <td>Montrose, Colorado</td>\n",
       "      <td>14.4</td>\n",
       "      <td>411</td>\n",
       "      <td>1</td>\n",
       "      <td>3.0</td>\n",
       "      <td>hike1484</td>\n",
       "      <td>0</td>\n",
       "      <td>1</td>\n",
       "      <td>0</td>\n",
       "      <td>1</td>\n",
       "      <td>1</td>\n",
       "      <td>0</td>\n",
       "      <td>0</td>\n",
       "      <td>1</td>\n",
       "      <td>0</td>\n",
       "      <td>0</td>\n",
       "      <td>1</td>\n",
       "      <td>1</td>\n",
       "    </tr>\n",
       "    <tr>\n",
       "      <th>1485</th>\n",
       "      <td>Mayhoffer Trail Loop</td>\n",
       "      <td>Superior, Colorado</td>\n",
       "      <td>10.8</td>\n",
       "      <td>872</td>\n",
       "      <td>1</td>\n",
       "      <td>2.0</td>\n",
       "      <td>hike1485</td>\n",
       "      <td>1</td>\n",
       "      <td>0</td>\n",
       "      <td>0</td>\n",
       "      <td>0</td>\n",
       "      <td>1</td>\n",
       "      <td>0</td>\n",
       "      <td>0</td>\n",
       "      <td>0</td>\n",
       "      <td>0</td>\n",
       "      <td>0</td>\n",
       "      <td>0</td>\n",
       "      <td>0</td>\n",
       "    </tr>\n",
       "    <tr>\n",
       "      <th>1486</th>\n",
       "      <td>River Ponds Trail Loop trail</td>\n",
       "      <td>Fort Collins, Colorado</td>\n",
       "      <td>2.0</td>\n",
       "      <td>14</td>\n",
       "      <td>1</td>\n",
       "      <td>4.0</td>\n",
       "      <td>hike1486</td>\n",
       "      <td>1</td>\n",
       "      <td>0</td>\n",
       "      <td>0</td>\n",
       "      <td>1</td>\n",
       "      <td>0</td>\n",
       "      <td>0</td>\n",
       "      <td>0</td>\n",
       "      <td>0</td>\n",
       "      <td>1</td>\n",
       "      <td>1</td>\n",
       "      <td>1</td>\n",
       "      <td>1</td>\n",
       "    </tr>\n",
       "  </tbody>\n",
       "</table>\n",
       "</div>"
      ],
      "text/plain": [
       "                                  hike_name                hike_region  \\\n",
       "1482  Foothills Nature Trail to CCC Shelter  Roosevelt National Forest   \n",
       "1483                           Sinton Trail          Roswell, Colorado   \n",
       "1484                 Uncompahgre River Walk         Montrose, Colorado   \n",
       "1485                   Mayhoffer Trail Loop         Superior, Colorado   \n",
       "1486           River Ponds Trail Loop trail     Fort Collins, Colorado   \n",
       "\n",
       "      total_distance  elevation_gain  hike_difficulty  stars   hike_id  loop  \\\n",
       "1482             2.0             498                1    3.0  hike1482     0   \n",
       "1483             5.6             374                1    4.0  hike1483     0   \n",
       "1484            14.4             411                1    3.0  hike1484     0   \n",
       "1485            10.8             872                1    2.0  hike1485     1   \n",
       "1486             2.0              14                1    4.0  hike1486     1   \n",
       "\n",
       "      out_and_back  point_to_point  dog_friendly  kid_friendly  camping  \\\n",
       "1482             1               0             1             0        0   \n",
       "1483             1               0             1             1        0   \n",
       "1484             1               0             1             1        0   \n",
       "1485             0               0             0             1        0   \n",
       "1486             0               0             1             0        0   \n",
       "\n",
       "      waterfall  river  lake  wildflowers  wildlife  views  \n",
       "1482          0      1     0            1         1      1  \n",
       "1483          0      0     0            1         1      1  \n",
       "1484          0      1     0            0         1      1  \n",
       "1485          0      0     0            0         0      0  \n",
       "1486          0      0     1            1         1      1  "
      ]
     },
     "execution_count": 557,
     "metadata": {},
     "output_type": "execute_result"
    }
   ],
   "source": [
    "df_features.tail()"
   ]
  },
  {
   "cell_type": "code",
   "execution_count": 558,
   "metadata": {},
   "outputs": [
    {
     "data": {
      "text/html": [
       "<div>\n",
       "<style scoped>\n",
       "    .dataframe tbody tr th:only-of-type {\n",
       "        vertical-align: middle;\n",
       "    }\n",
       "\n",
       "    .dataframe tbody tr th {\n",
       "        vertical-align: top;\n",
       "    }\n",
       "\n",
       "    .dataframe thead th {\n",
       "        text-align: right;\n",
       "    }\n",
       "</style>\n",
       "<table border=\"1\" class=\"dataframe\">\n",
       "  <thead>\n",
       "    <tr style=\"text-align: right;\">\n",
       "      <th></th>\n",
       "      <th>hike_id</th>\n",
       "      <th>variable</th>\n",
       "      <th>value</th>\n",
       "    </tr>\n",
       "  </thead>\n",
       "  <tbody>\n",
       "    <tr>\n",
       "      <th>0</th>\n",
       "      <td>hike43</td>\n",
       "      <td>user1</td>\n",
       "      <td>4</td>\n",
       "    </tr>\n",
       "    <tr>\n",
       "      <th>1</th>\n",
       "      <td>hike6</td>\n",
       "      <td>user1</td>\n",
       "      <td>4</td>\n",
       "    </tr>\n",
       "    <tr>\n",
       "      <th>2</th>\n",
       "      <td>hike137</td>\n",
       "      <td>user10</td>\n",
       "      <td>5</td>\n",
       "    </tr>\n",
       "    <tr>\n",
       "      <th>3</th>\n",
       "      <td>hike7</td>\n",
       "      <td>user100</td>\n",
       "      <td>4</td>\n",
       "    </tr>\n",
       "    <tr>\n",
       "      <th>4</th>\n",
       "      <td>hike33</td>\n",
       "      <td>user1000</td>\n",
       "      <td>4</td>\n",
       "    </tr>\n",
       "  </tbody>\n",
       "</table>\n",
       "</div>"
      ],
      "text/plain": [
       "   hike_id  variable  value\n",
       "0   hike43     user1      4\n",
       "1    hike6     user1      4\n",
       "2  hike137    user10      5\n",
       "3    hike7   user100      4\n",
       "4   hike33  user1000      4"
      ]
     },
     "execution_count": 558,
     "metadata": {},
     "output_type": "execute_result"
    }
   ],
   "source": [
    "df.head()"
   ]
  },
  {
   "cell_type": "code",
   "execution_count": 559,
   "metadata": {},
   "outputs": [
    {
     "data": {
      "text/plain": [
       "Index(['hike_id', 'variable', 'value', 'hike_name', 'hike_region',\n",
       "       'total_distance', 'elevation_gain', 'hike_difficulty', 'stars', 'loop',\n",
       "       'out_and_back', 'point_to_point', 'dog_friendly', 'kid_friendly',\n",
       "       'camping', 'waterfall', 'river', 'lake', 'wildflowers', 'wildlife',\n",
       "       'views'],\n",
       "      dtype='object')"
      ]
     },
     "execution_count": 559,
     "metadata": {},
     "output_type": "execute_result"
    }
   ],
   "source": [
    "# Merge dataframes\n",
    "df = pd.merge(df, df_features, on='hike_id')\n",
    "df.columns"
   ]
  },
  {
   "cell_type": "code",
   "execution_count": 560,
   "metadata": {},
   "outputs": [
    {
     "data": {
      "text/html": [
       "<div>\n",
       "<style scoped>\n",
       "    .dataframe tbody tr th:only-of-type {\n",
       "        vertical-align: middle;\n",
       "    }\n",
       "\n",
       "    .dataframe tbody tr th {\n",
       "        vertical-align: top;\n",
       "    }\n",
       "\n",
       "    .dataframe thead th {\n",
       "        text-align: right;\n",
       "    }\n",
       "</style>\n",
       "<table border=\"1\" class=\"dataframe\">\n",
       "  <thead>\n",
       "    <tr style=\"text-align: right;\">\n",
       "      <th></th>\n",
       "      <th>hike_id</th>\n",
       "      <th>variable</th>\n",
       "      <th>value</th>\n",
       "      <th>hike_name</th>\n",
       "      <th>hike_region</th>\n",
       "      <th>total_distance</th>\n",
       "      <th>elevation_gain</th>\n",
       "      <th>hike_difficulty</th>\n",
       "      <th>stars</th>\n",
       "      <th>loop</th>\n",
       "      <th>...</th>\n",
       "      <th>point_to_point</th>\n",
       "      <th>dog_friendly</th>\n",
       "      <th>kid_friendly</th>\n",
       "      <th>camping</th>\n",
       "      <th>waterfall</th>\n",
       "      <th>river</th>\n",
       "      <th>lake</th>\n",
       "      <th>wildflowers</th>\n",
       "      <th>wildlife</th>\n",
       "      <th>views</th>\n",
       "    </tr>\n",
       "  </thead>\n",
       "  <tbody>\n",
       "    <tr>\n",
       "      <th>0</th>\n",
       "      <td>hike43</td>\n",
       "      <td>user1</td>\n",
       "      <td>4</td>\n",
       "      <td>Spruce Mountain Trail</td>\n",
       "      <td>Pike National Forest</td>\n",
       "      <td>5.5</td>\n",
       "      <td>732</td>\n",
       "      <td>2</td>\n",
       "      <td>4.3</td>\n",
       "      <td>1</td>\n",
       "      <td>...</td>\n",
       "      <td>0</td>\n",
       "      <td>1</td>\n",
       "      <td>1</td>\n",
       "      <td>0</td>\n",
       "      <td>0</td>\n",
       "      <td>0</td>\n",
       "      <td>0</td>\n",
       "      <td>1</td>\n",
       "      <td>1</td>\n",
       "      <td>1</td>\n",
       "    </tr>\n",
       "    <tr>\n",
       "      <th>1</th>\n",
       "      <td>hike43</td>\n",
       "      <td>user10076</td>\n",
       "      <td>5</td>\n",
       "      <td>Spruce Mountain Trail</td>\n",
       "      <td>Pike National Forest</td>\n",
       "      <td>5.5</td>\n",
       "      <td>732</td>\n",
       "      <td>2</td>\n",
       "      <td>4.3</td>\n",
       "      <td>1</td>\n",
       "      <td>...</td>\n",
       "      <td>0</td>\n",
       "      <td>1</td>\n",
       "      <td>1</td>\n",
       "      <td>0</td>\n",
       "      <td>0</td>\n",
       "      <td>0</td>\n",
       "      <td>0</td>\n",
       "      <td>1</td>\n",
       "      <td>1</td>\n",
       "      <td>1</td>\n",
       "    </tr>\n",
       "    <tr>\n",
       "      <th>2</th>\n",
       "      <td>hike43</td>\n",
       "      <td>user10196</td>\n",
       "      <td>4</td>\n",
       "      <td>Spruce Mountain Trail</td>\n",
       "      <td>Pike National Forest</td>\n",
       "      <td>5.5</td>\n",
       "      <td>732</td>\n",
       "      <td>2</td>\n",
       "      <td>4.3</td>\n",
       "      <td>1</td>\n",
       "      <td>...</td>\n",
       "      <td>0</td>\n",
       "      <td>1</td>\n",
       "      <td>1</td>\n",
       "      <td>0</td>\n",
       "      <td>0</td>\n",
       "      <td>0</td>\n",
       "      <td>0</td>\n",
       "      <td>1</td>\n",
       "      <td>1</td>\n",
       "      <td>1</td>\n",
       "    </tr>\n",
       "    <tr>\n",
       "      <th>3</th>\n",
       "      <td>hike43</td>\n",
       "      <td>user10349</td>\n",
       "      <td>4</td>\n",
       "      <td>Spruce Mountain Trail</td>\n",
       "      <td>Pike National Forest</td>\n",
       "      <td>5.5</td>\n",
       "      <td>732</td>\n",
       "      <td>2</td>\n",
       "      <td>4.3</td>\n",
       "      <td>1</td>\n",
       "      <td>...</td>\n",
       "      <td>0</td>\n",
       "      <td>1</td>\n",
       "      <td>1</td>\n",
       "      <td>0</td>\n",
       "      <td>0</td>\n",
       "      <td>0</td>\n",
       "      <td>0</td>\n",
       "      <td>1</td>\n",
       "      <td>1</td>\n",
       "      <td>1</td>\n",
       "    </tr>\n",
       "    <tr>\n",
       "      <th>4</th>\n",
       "      <td>hike43</td>\n",
       "      <td>user10351</td>\n",
       "      <td>4</td>\n",
       "      <td>Spruce Mountain Trail</td>\n",
       "      <td>Pike National Forest</td>\n",
       "      <td>5.5</td>\n",
       "      <td>732</td>\n",
       "      <td>2</td>\n",
       "      <td>4.3</td>\n",
       "      <td>1</td>\n",
       "      <td>...</td>\n",
       "      <td>0</td>\n",
       "      <td>1</td>\n",
       "      <td>1</td>\n",
       "      <td>0</td>\n",
       "      <td>0</td>\n",
       "      <td>0</td>\n",
       "      <td>0</td>\n",
       "      <td>1</td>\n",
       "      <td>1</td>\n",
       "      <td>1</td>\n",
       "    </tr>\n",
       "  </tbody>\n",
       "</table>\n",
       "<p>5 rows × 21 columns</p>\n",
       "</div>"
      ],
      "text/plain": [
       "  hike_id   variable  value              hike_name           hike_region  \\\n",
       "0  hike43      user1      4  Spruce Mountain Trail  Pike National Forest   \n",
       "1  hike43  user10076      5  Spruce Mountain Trail  Pike National Forest   \n",
       "2  hike43  user10196      4  Spruce Mountain Trail  Pike National Forest   \n",
       "3  hike43  user10349      4  Spruce Mountain Trail  Pike National Forest   \n",
       "4  hike43  user10351      4  Spruce Mountain Trail  Pike National Forest   \n",
       "\n",
       "   total_distance  elevation_gain  hike_difficulty  stars  loop  ...  \\\n",
       "0             5.5             732                2    4.3     1  ...   \n",
       "1             5.5             732                2    4.3     1  ...   \n",
       "2             5.5             732                2    4.3     1  ...   \n",
       "3             5.5             732                2    4.3     1  ...   \n",
       "4             5.5             732                2    4.3     1  ...   \n",
       "\n",
       "   point_to_point  dog_friendly  kid_friendly  camping  waterfall  river  \\\n",
       "0               0             1             1        0          0      0   \n",
       "1               0             1             1        0          0      0   \n",
       "2               0             1             1        0          0      0   \n",
       "3               0             1             1        0          0      0   \n",
       "4               0             1             1        0          0      0   \n",
       "\n",
       "   lake  wildflowers  wildlife  views  \n",
       "0     0            1         1      1  \n",
       "1     0            1         1      1  \n",
       "2     0            1         1      1  \n",
       "3     0            1         1      1  \n",
       "4     0            1         1      1  \n",
       "\n",
       "[5 rows x 21 columns]"
      ]
     },
     "execution_count": 560,
     "metadata": {},
     "output_type": "execute_result"
    }
   ],
   "source": [
    "df.head()"
   ]
  },
  {
   "cell_type": "code",
   "execution_count": 561,
   "metadata": {},
   "outputs": [],
   "source": [
    "# Rename variable to user id\n",
    "df['user_id'] = df['variable'] \n",
    "df = df.drop('variable', 1)\n",
    "\n",
    "# Rename value to rating\n",
    "df['rating'] = df['value'] \n",
    "df = df.drop('value', 1)"
   ]
  },
  {
   "cell_type": "code",
   "execution_count": 562,
   "metadata": {},
   "outputs": [],
   "source": [
    "# Remove string\n",
    "df['hike_id'] = df.hike_id.str.strip('hike')\n",
    "\n",
    "df['user_id'] = df.user_id.str.strip('user')\n",
    "\n",
    "# Convert to int\n",
    "\n",
    "df['hike_id'] = pd.to_numeric(df.hike_id, errors='coerce')\n",
    "\n",
    "df['user_id'] = pd.to_numeric(df.user_id, errors='coerce')"
   ]
  },
  {
   "cell_type": "code",
   "execution_count": 563,
   "metadata": {},
   "outputs": [
    {
     "name": "stdout",
     "output_type": "stream",
     "text": [
      "Hike Id Type: <class 'numpy.int64'>\n",
      "User Id Type: <class 'numpy.int64'>\n"
     ]
    }
   ],
   "source": [
    "print(f'Hike Id Type: {type(df.hike_id[0])}\\nUser Id Type: {type(df.user_id[0])}')"
   ]
  },
  {
   "cell_type": "code",
   "execution_count": 564,
   "metadata": {},
   "outputs": [
    {
     "data": {
      "text/html": [
       "<div>\n",
       "<style scoped>\n",
       "    .dataframe tbody tr th:only-of-type {\n",
       "        vertical-align: middle;\n",
       "    }\n",
       "\n",
       "    .dataframe tbody tr th {\n",
       "        vertical-align: top;\n",
       "    }\n",
       "\n",
       "    .dataframe thead th {\n",
       "        text-align: right;\n",
       "    }\n",
       "</style>\n",
       "<table border=\"1\" class=\"dataframe\">\n",
       "  <thead>\n",
       "    <tr style=\"text-align: right;\">\n",
       "      <th></th>\n",
       "      <th>hike_id</th>\n",
       "      <th>hike_name</th>\n",
       "      <th>hike_region</th>\n",
       "      <th>total_distance</th>\n",
       "      <th>elevation_gain</th>\n",
       "      <th>hike_difficulty</th>\n",
       "      <th>stars</th>\n",
       "      <th>loop</th>\n",
       "      <th>out_and_back</th>\n",
       "      <th>point_to_point</th>\n",
       "      <th>...</th>\n",
       "      <th>kid_friendly</th>\n",
       "      <th>camping</th>\n",
       "      <th>waterfall</th>\n",
       "      <th>river</th>\n",
       "      <th>lake</th>\n",
       "      <th>wildflowers</th>\n",
       "      <th>wildlife</th>\n",
       "      <th>views</th>\n",
       "      <th>user_id</th>\n",
       "      <th>rating</th>\n",
       "    </tr>\n",
       "  </thead>\n",
       "  <tbody>\n",
       "    <tr>\n",
       "      <th>0</th>\n",
       "      <td>43</td>\n",
       "      <td>Spruce Mountain Trail</td>\n",
       "      <td>Pike National Forest</td>\n",
       "      <td>5.5</td>\n",
       "      <td>732</td>\n",
       "      <td>2</td>\n",
       "      <td>4.3</td>\n",
       "      <td>1</td>\n",
       "      <td>0</td>\n",
       "      <td>0</td>\n",
       "      <td>...</td>\n",
       "      <td>1</td>\n",
       "      <td>0</td>\n",
       "      <td>0</td>\n",
       "      <td>0</td>\n",
       "      <td>0</td>\n",
       "      <td>1</td>\n",
       "      <td>1</td>\n",
       "      <td>1</td>\n",
       "      <td>1</td>\n",
       "      <td>4</td>\n",
       "    </tr>\n",
       "    <tr>\n",
       "      <th>1</th>\n",
       "      <td>43</td>\n",
       "      <td>Spruce Mountain Trail</td>\n",
       "      <td>Pike National Forest</td>\n",
       "      <td>5.5</td>\n",
       "      <td>732</td>\n",
       "      <td>2</td>\n",
       "      <td>4.3</td>\n",
       "      <td>1</td>\n",
       "      <td>0</td>\n",
       "      <td>0</td>\n",
       "      <td>...</td>\n",
       "      <td>1</td>\n",
       "      <td>0</td>\n",
       "      <td>0</td>\n",
       "      <td>0</td>\n",
       "      <td>0</td>\n",
       "      <td>1</td>\n",
       "      <td>1</td>\n",
       "      <td>1</td>\n",
       "      <td>10076</td>\n",
       "      <td>5</td>\n",
       "    </tr>\n",
       "    <tr>\n",
       "      <th>2</th>\n",
       "      <td>43</td>\n",
       "      <td>Spruce Mountain Trail</td>\n",
       "      <td>Pike National Forest</td>\n",
       "      <td>5.5</td>\n",
       "      <td>732</td>\n",
       "      <td>2</td>\n",
       "      <td>4.3</td>\n",
       "      <td>1</td>\n",
       "      <td>0</td>\n",
       "      <td>0</td>\n",
       "      <td>...</td>\n",
       "      <td>1</td>\n",
       "      <td>0</td>\n",
       "      <td>0</td>\n",
       "      <td>0</td>\n",
       "      <td>0</td>\n",
       "      <td>1</td>\n",
       "      <td>1</td>\n",
       "      <td>1</td>\n",
       "      <td>10196</td>\n",
       "      <td>4</td>\n",
       "    </tr>\n",
       "    <tr>\n",
       "      <th>3</th>\n",
       "      <td>43</td>\n",
       "      <td>Spruce Mountain Trail</td>\n",
       "      <td>Pike National Forest</td>\n",
       "      <td>5.5</td>\n",
       "      <td>732</td>\n",
       "      <td>2</td>\n",
       "      <td>4.3</td>\n",
       "      <td>1</td>\n",
       "      <td>0</td>\n",
       "      <td>0</td>\n",
       "      <td>...</td>\n",
       "      <td>1</td>\n",
       "      <td>0</td>\n",
       "      <td>0</td>\n",
       "      <td>0</td>\n",
       "      <td>0</td>\n",
       "      <td>1</td>\n",
       "      <td>1</td>\n",
       "      <td>1</td>\n",
       "      <td>10349</td>\n",
       "      <td>4</td>\n",
       "    </tr>\n",
       "    <tr>\n",
       "      <th>4</th>\n",
       "      <td>43</td>\n",
       "      <td>Spruce Mountain Trail</td>\n",
       "      <td>Pike National Forest</td>\n",
       "      <td>5.5</td>\n",
       "      <td>732</td>\n",
       "      <td>2</td>\n",
       "      <td>4.3</td>\n",
       "      <td>1</td>\n",
       "      <td>0</td>\n",
       "      <td>0</td>\n",
       "      <td>...</td>\n",
       "      <td>1</td>\n",
       "      <td>0</td>\n",
       "      <td>0</td>\n",
       "      <td>0</td>\n",
       "      <td>0</td>\n",
       "      <td>1</td>\n",
       "      <td>1</td>\n",
       "      <td>1</td>\n",
       "      <td>10351</td>\n",
       "      <td>4</td>\n",
       "    </tr>\n",
       "  </tbody>\n",
       "</table>\n",
       "<p>5 rows × 21 columns</p>\n",
       "</div>"
      ],
      "text/plain": [
       "   hike_id              hike_name           hike_region  total_distance  \\\n",
       "0       43  Spruce Mountain Trail  Pike National Forest             5.5   \n",
       "1       43  Spruce Mountain Trail  Pike National Forest             5.5   \n",
       "2       43  Spruce Mountain Trail  Pike National Forest             5.5   \n",
       "3       43  Spruce Mountain Trail  Pike National Forest             5.5   \n",
       "4       43  Spruce Mountain Trail  Pike National Forest             5.5   \n",
       "\n",
       "   elevation_gain  hike_difficulty  stars  loop  out_and_back  point_to_point  \\\n",
       "0             732                2    4.3     1             0               0   \n",
       "1             732                2    4.3     1             0               0   \n",
       "2             732                2    4.3     1             0               0   \n",
       "3             732                2    4.3     1             0               0   \n",
       "4             732                2    4.3     1             0               0   \n",
       "\n",
       "   ...  kid_friendly  camping  waterfall  river  lake  wildflowers  wildlife  \\\n",
       "0  ...             1        0          0      0     0            1         1   \n",
       "1  ...             1        0          0      0     0            1         1   \n",
       "2  ...             1        0          0      0     0            1         1   \n",
       "3  ...             1        0          0      0     0            1         1   \n",
       "4  ...             1        0          0      0     0            1         1   \n",
       "\n",
       "   views  user_id  rating  \n",
       "0      1        1       4  \n",
       "1      1    10076       5  \n",
       "2      1    10196       4  \n",
       "3      1    10349       4  \n",
       "4      1    10351       4  \n",
       "\n",
       "[5 rows x 21 columns]"
      ]
     },
     "execution_count": 564,
     "metadata": {},
     "output_type": "execute_result"
    }
   ],
   "source": [
    "df.head()"
   ]
  },
  {
   "cell_type": "code",
   "execution_count": 565,
   "metadata": {},
   "outputs": [
    {
     "data": {
      "text/html": [
       "<div>\n",
       "<style scoped>\n",
       "    .dataframe tbody tr th:only-of-type {\n",
       "        vertical-align: middle;\n",
       "    }\n",
       "\n",
       "    .dataframe tbody tr th {\n",
       "        vertical-align: top;\n",
       "    }\n",
       "\n",
       "    .dataframe thead th {\n",
       "        text-align: right;\n",
       "    }\n",
       "</style>\n",
       "<table border=\"1\" class=\"dataframe\">\n",
       "  <thead>\n",
       "    <tr style=\"text-align: right;\">\n",
       "      <th></th>\n",
       "      <th>user_id</th>\n",
       "      <th>hike_id</th>\n",
       "      <th>rating</th>\n",
       "      <th>hike_name</th>\n",
       "      <th>hike_region</th>\n",
       "      <th>total_distance</th>\n",
       "      <th>elevation_gain</th>\n",
       "      <th>hike_difficulty</th>\n",
       "      <th>stars</th>\n",
       "      <th>loop</th>\n",
       "      <th>...</th>\n",
       "      <th>point_to_point</th>\n",
       "      <th>dog_friendly</th>\n",
       "      <th>kid_friendly</th>\n",
       "      <th>camping</th>\n",
       "      <th>waterfall</th>\n",
       "      <th>river</th>\n",
       "      <th>lake</th>\n",
       "      <th>wildflowers</th>\n",
       "      <th>wildlife</th>\n",
       "      <th>views</th>\n",
       "    </tr>\n",
       "  </thead>\n",
       "  <tbody>\n",
       "    <tr>\n",
       "      <th>0</th>\n",
       "      <td>1</td>\n",
       "      <td>43</td>\n",
       "      <td>4</td>\n",
       "      <td>Spruce Mountain Trail</td>\n",
       "      <td>Pike National Forest</td>\n",
       "      <td>5.5</td>\n",
       "      <td>732</td>\n",
       "      <td>2</td>\n",
       "      <td>4.3</td>\n",
       "      <td>1</td>\n",
       "      <td>...</td>\n",
       "      <td>0</td>\n",
       "      <td>1</td>\n",
       "      <td>1</td>\n",
       "      <td>0</td>\n",
       "      <td>0</td>\n",
       "      <td>0</td>\n",
       "      <td>0</td>\n",
       "      <td>1</td>\n",
       "      <td>1</td>\n",
       "      <td>1</td>\n",
       "    </tr>\n",
       "    <tr>\n",
       "      <th>1</th>\n",
       "      <td>10076</td>\n",
       "      <td>43</td>\n",
       "      <td>5</td>\n",
       "      <td>Spruce Mountain Trail</td>\n",
       "      <td>Pike National Forest</td>\n",
       "      <td>5.5</td>\n",
       "      <td>732</td>\n",
       "      <td>2</td>\n",
       "      <td>4.3</td>\n",
       "      <td>1</td>\n",
       "      <td>...</td>\n",
       "      <td>0</td>\n",
       "      <td>1</td>\n",
       "      <td>1</td>\n",
       "      <td>0</td>\n",
       "      <td>0</td>\n",
       "      <td>0</td>\n",
       "      <td>0</td>\n",
       "      <td>1</td>\n",
       "      <td>1</td>\n",
       "      <td>1</td>\n",
       "    </tr>\n",
       "    <tr>\n",
       "      <th>2</th>\n",
       "      <td>10196</td>\n",
       "      <td>43</td>\n",
       "      <td>4</td>\n",
       "      <td>Spruce Mountain Trail</td>\n",
       "      <td>Pike National Forest</td>\n",
       "      <td>5.5</td>\n",
       "      <td>732</td>\n",
       "      <td>2</td>\n",
       "      <td>4.3</td>\n",
       "      <td>1</td>\n",
       "      <td>...</td>\n",
       "      <td>0</td>\n",
       "      <td>1</td>\n",
       "      <td>1</td>\n",
       "      <td>0</td>\n",
       "      <td>0</td>\n",
       "      <td>0</td>\n",
       "      <td>0</td>\n",
       "      <td>1</td>\n",
       "      <td>1</td>\n",
       "      <td>1</td>\n",
       "    </tr>\n",
       "    <tr>\n",
       "      <th>3</th>\n",
       "      <td>10349</td>\n",
       "      <td>43</td>\n",
       "      <td>4</td>\n",
       "      <td>Spruce Mountain Trail</td>\n",
       "      <td>Pike National Forest</td>\n",
       "      <td>5.5</td>\n",
       "      <td>732</td>\n",
       "      <td>2</td>\n",
       "      <td>4.3</td>\n",
       "      <td>1</td>\n",
       "      <td>...</td>\n",
       "      <td>0</td>\n",
       "      <td>1</td>\n",
       "      <td>1</td>\n",
       "      <td>0</td>\n",
       "      <td>0</td>\n",
       "      <td>0</td>\n",
       "      <td>0</td>\n",
       "      <td>1</td>\n",
       "      <td>1</td>\n",
       "      <td>1</td>\n",
       "    </tr>\n",
       "    <tr>\n",
       "      <th>4</th>\n",
       "      <td>10351</td>\n",
       "      <td>43</td>\n",
       "      <td>4</td>\n",
       "      <td>Spruce Mountain Trail</td>\n",
       "      <td>Pike National Forest</td>\n",
       "      <td>5.5</td>\n",
       "      <td>732</td>\n",
       "      <td>2</td>\n",
       "      <td>4.3</td>\n",
       "      <td>1</td>\n",
       "      <td>...</td>\n",
       "      <td>0</td>\n",
       "      <td>1</td>\n",
       "      <td>1</td>\n",
       "      <td>0</td>\n",
       "      <td>0</td>\n",
       "      <td>0</td>\n",
       "      <td>0</td>\n",
       "      <td>1</td>\n",
       "      <td>1</td>\n",
       "      <td>1</td>\n",
       "    </tr>\n",
       "  </tbody>\n",
       "</table>\n",
       "<p>5 rows × 21 columns</p>\n",
       "</div>"
      ],
      "text/plain": [
       "   user_id  hike_id  rating              hike_name           hike_region  \\\n",
       "0        1       43       4  Spruce Mountain Trail  Pike National Forest   \n",
       "1    10076       43       5  Spruce Mountain Trail  Pike National Forest   \n",
       "2    10196       43       4  Spruce Mountain Trail  Pike National Forest   \n",
       "3    10349       43       4  Spruce Mountain Trail  Pike National Forest   \n",
       "4    10351       43       4  Spruce Mountain Trail  Pike National Forest   \n",
       "\n",
       "   total_distance  elevation_gain  hike_difficulty  stars  loop  ...  \\\n",
       "0             5.5             732                2    4.3     1  ...   \n",
       "1             5.5             732                2    4.3     1  ...   \n",
       "2             5.5             732                2    4.3     1  ...   \n",
       "3             5.5             732                2    4.3     1  ...   \n",
       "4             5.5             732                2    4.3     1  ...   \n",
       "\n",
       "   point_to_point  dog_friendly  kid_friendly  camping  waterfall  river  \\\n",
       "0               0             1             1        0          0      0   \n",
       "1               0             1             1        0          0      0   \n",
       "2               0             1             1        0          0      0   \n",
       "3               0             1             1        0          0      0   \n",
       "4               0             1             1        0          0      0   \n",
       "\n",
       "   lake  wildflowers  wildlife  views  \n",
       "0     0            1         1      1  \n",
       "1     0            1         1      1  \n",
       "2     0            1         1      1  \n",
       "3     0            1         1      1  \n",
       "4     0            1         1      1  \n",
       "\n",
       "[5 rows x 21 columns]"
      ]
     },
     "execution_count": 565,
     "metadata": {},
     "output_type": "execute_result"
    }
   ],
   "source": [
    "# Change order of columns\n",
    "df = df[['user_id', 'hike_id', 'rating', 'hike_name', 'hike_region','total_distance','elevation_gain','hike_difficulty','stars','loop', 'out_and_back', 'point_to_point','dog_friendly', 'kid_friendly', 'camping', 'waterfall', 'river','lake', 'wildflowers', 'wildlife','views']]\n",
    "df.head()"
   ]
  },
  {
   "cell_type": "code",
   "execution_count": 569,
   "metadata": {},
   "outputs": [
    {
     "name": "stdout",
     "output_type": "stream",
     "text": [
      "Empty DataFrame\n",
      "Columns: [user_id, hike_id, rating, hike_name, hike_region, total_distance, elevation_gain, hike_difficulty, stars, loop, out_and_back, point_to_point, dog_friendly, kid_friendly, camping, waterfall, river, lake, wildflowers, wildlife, views]\n",
      "Index: []\n",
      "\n",
      "[0 rows x 21 columns]\n"
     ]
    }
   ],
   "source": [
    "# Check for duplicate \n",
    "duplicate = df[df.duplicated()] \n",
    "\n",
    "print(duplicate)\n",
    "\n",
    "# Drop duplicates\n",
    "#df.drop_duplicates(keep=False,inplace=True)"
   ]
  },
  {
   "cell_type": "code",
   "execution_count": 570,
   "metadata": {},
   "outputs": [
    {
     "name": "stdout",
     "output_type": "stream",
     "text": [
      "New dataset shape: (23842, 21)\n"
     ]
    }
   ],
   "source": [
    "print(f'New dataset shape: {df.shape}')"
   ]
  },
  {
   "cell_type": "code",
   "execution_count": 571,
   "metadata": {},
   "outputs": [],
   "source": [
    "def get_ratings(df):\n",
    "    ratings = []\n",
    "    df = df[['user_id', 'hike_id', 'rating']]\n",
    "    \n",
    "    for x in df.values:\n",
    "        ratings.append(x)\n",
    "    \n",
    "    return ratings"
   ]
  },
  {
   "cell_type": "code",
   "execution_count": 572,
   "metadata": {},
   "outputs": [],
   "source": [
    "def get_features(df):\n",
    "    df = df.drop(['user_id', 'rating'], 1)\n",
    " \n",
    "    features = []\n",
    "    for x in df.values:\n",
    "        features.append(x)\n",
    "    \n",
    "    return features"
   ]
  },
  {
   "cell_type": "code",
   "execution_count": 573,
   "metadata": {},
   "outputs": [],
   "source": [
    "#df_pivot = df.pivot_table(index='variable',columns='hike_id',values='value')"
   ]
  },
  {
   "cell_type": "code",
   "execution_count": 574,
   "metadata": {},
   "outputs": [],
   "source": [
    "from lightfm.data import Dataset\n",
    "\n",
    "dataset = Dataset()\n",
    "dataset.fit((x[0] for x in get_ratings(df)),\n",
    "            (x[1] for x in get_ratings(df)))"
   ]
  },
  {
   "cell_type": "code",
   "execution_count": 575,
   "metadata": {},
   "outputs": [
    {
     "name": "stdout",
     "output_type": "stream",
     "text": [
      "Num users: 11891, num_items 1487.\n"
     ]
    }
   ],
   "source": [
    "num_users, num_items = dataset.interactions_shape()\n",
    "print('Num users: {}, num_items {}.'.format(num_users, num_items))"
   ]
  },
  {
   "cell_type": "markdown",
   "metadata": {},
   "source": [
    "## Supply additional id's with fit_partial()\n",
    "Ff we don’t have all user and items ids at once, we can repeatedly call `fit_partial` to supply additional ids. In this case, we will use this capability to add some item feature mappings"
   ]
  },
  {
   "cell_type": "code",
   "execution_count": 576,
   "metadata": {},
   "outputs": [],
   "source": [
    "dataset.fit_partial(items=(x[0] for x in get_features(df)),\n",
    "                    item_features=(x[1] for x in get_features(df)))"
   ]
  },
  {
   "cell_type": "markdown",
   "metadata": {},
   "source": [
    "## Building the interactions matrix"
   ]
  },
  {
   "cell_type": "code",
   "execution_count": 577,
   "metadata": {},
   "outputs": [
    {
     "name": "stdout",
     "output_type": "stream",
     "text": [
      "<11891x1487 sparse matrix of type '<class 'numpy.int32'>'\n",
      "\twith 23842 stored elements in COOrdinate format>\n"
     ]
    }
   ],
   "source": [
    "(interactions, weights) = dataset.build_interactions(((x[0], x[1])\n",
    "                                                      for x in get_ratings(df)))\n",
    "\n",
    "print(repr(interactions))"
   ]
  },
  {
   "cell_type": "code",
   "execution_count": 578,
   "metadata": {},
   "outputs": [
    {
     "name": "stdout",
     "output_type": "stream",
     "text": [
      "<1487x2950 sparse matrix of type '<class 'numpy.float32'>'\n",
      "\twith 2974 stored elements in Compressed Sparse Row format>\n"
     ]
    }
   ],
   "source": [
    "item_features = dataset.build_item_features(((x[0], [x[1]])\n",
    "                                              for x in get_features(df)))\n",
    "print(repr(item_features))"
   ]
  },
  {
   "cell_type": "markdown",
   "metadata": {},
   "source": [
    "## Building a model"
   ]
  },
  {
   "cell_type": "code",
   "execution_count": 579,
   "metadata": {},
   "outputs": [
    {
     "data": {
      "text/plain": [
       "<lightfm.lightfm.LightFM at 0x1e0a865bec8>"
      ]
     },
     "execution_count": 579,
     "metadata": {},
     "output_type": "execute_result"
    }
   ],
   "source": [
    "from lightfm import LightFM\n",
    "from lightfm.evaluation import precision_at_k\n",
    "from lightfm.evaluation import auc_score\n",
    "\n",
    "model = LightFM(loss='warp')\n",
    "model.fit(interactions, item_features=item_features, epochs=10)"
   ]
  },
  {
   "cell_type": "code",
   "execution_count": 580,
   "metadata": {},
   "outputs": [
    {
     "name": "stdout",
     "output_type": "stream",
     "text": [
      "Hybrid training set AUC: 0.9527566\n"
     ]
    }
   ],
   "source": [
    "# AUC Score\n",
    "train_auc = auc_score(model,\n",
    "                      interactions,\n",
    "                      item_features=item_features\n",
    "                     ).mean()\n",
    "print('Hybrid training set AUC: %s' % train_auc)"
   ]
  },
  {
   "cell_type": "markdown",
   "metadata": {},
   "source": [
    "## Train/Test"
   ]
  },
  {
   "cell_type": "code",
   "execution_count": 581,
   "metadata": {},
   "outputs": [],
   "source": [
    "# Dataframe with 80% of values\n",
    "df_train = df.sample(frac = 0.8) \n",
    "  \n",
    "# Dataframe for test with 20% of values\n",
    "df_test = df.drop(df_train.index) "
   ]
  },
  {
   "cell_type": "code",
   "execution_count": 582,
   "metadata": {},
   "outputs": [
    {
     "name": "stdout",
     "output_type": "stream",
     "text": [
      "Train: (19074, 21)\n",
      "Test: (4768, 21)\n"
     ]
    }
   ],
   "source": [
    "print(f'Train: {df_train.shape}\\nTest: {df_test.shape}')"
   ]
  },
  {
   "cell_type": "code",
   "execution_count": 602,
   "metadata": {},
   "outputs": [
    {
     "data": {
      "text/html": [
       "<div>\n",
       "<style scoped>\n",
       "    .dataframe tbody tr th:only-of-type {\n",
       "        vertical-align: middle;\n",
       "    }\n",
       "\n",
       "    .dataframe tbody tr th {\n",
       "        vertical-align: top;\n",
       "    }\n",
       "\n",
       "    .dataframe thead th {\n",
       "        text-align: right;\n",
       "    }\n",
       "</style>\n",
       "<table border=\"1\" class=\"dataframe\">\n",
       "  <thead>\n",
       "    <tr style=\"text-align: right;\">\n",
       "      <th></th>\n",
       "      <th>user_id</th>\n",
       "      <th>hike_id</th>\n",
       "      <th>rating</th>\n",
       "      <th>hike_name</th>\n",
       "      <th>hike_region</th>\n",
       "      <th>total_distance</th>\n",
       "      <th>elevation_gain</th>\n",
       "      <th>hike_difficulty</th>\n",
       "      <th>stars</th>\n",
       "      <th>loop</th>\n",
       "      <th>...</th>\n",
       "      <th>point_to_point</th>\n",
       "      <th>dog_friendly</th>\n",
       "      <th>kid_friendly</th>\n",
       "      <th>camping</th>\n",
       "      <th>waterfall</th>\n",
       "      <th>river</th>\n",
       "      <th>lake</th>\n",
       "      <th>wildflowers</th>\n",
       "      <th>wildlife</th>\n",
       "      <th>views</th>\n",
       "    </tr>\n",
       "  </thead>\n",
       "  <tbody>\n",
       "    <tr>\n",
       "      <th>11733</th>\n",
       "      <td>11544</td>\n",
       "      <td>927</td>\n",
       "      <td>4</td>\n",
       "      <td>Saxon Mountain</td>\n",
       "      <td>Atapaho National Forest</td>\n",
       "      <td>14.2</td>\n",
       "      <td>3577</td>\n",
       "      <td>3</td>\n",
       "      <td>3.7</td>\n",
       "      <td>0</td>\n",
       "      <td>...</td>\n",
       "      <td>0</td>\n",
       "      <td>1</td>\n",
       "      <td>0</td>\n",
       "      <td>0</td>\n",
       "      <td>0</td>\n",
       "      <td>0</td>\n",
       "      <td>0</td>\n",
       "      <td>1</td>\n",
       "      <td>1</td>\n",
       "      <td>1</td>\n",
       "    </tr>\n",
       "    <tr>\n",
       "      <th>20687</th>\n",
       "      <td>7271</td>\n",
       "      <td>248</td>\n",
       "      <td>4</td>\n",
       "      <td>Zapata Falls Trail</td>\n",
       "      <td>Rio Grande National Forest</td>\n",
       "      <td>0.9</td>\n",
       "      <td>233</td>\n",
       "      <td>2</td>\n",
       "      <td>4.4</td>\n",
       "      <td>0</td>\n",
       "      <td>...</td>\n",
       "      <td>0</td>\n",
       "      <td>1</td>\n",
       "      <td>1</td>\n",
       "      <td>0</td>\n",
       "      <td>1</td>\n",
       "      <td>1</td>\n",
       "      <td>0</td>\n",
       "      <td>1</td>\n",
       "      <td>0</td>\n",
       "      <td>1</td>\n",
       "    </tr>\n",
       "    <tr>\n",
       "      <th>6167</th>\n",
       "      <td>1706</td>\n",
       "      <td>9</td>\n",
       "      <td>5</td>\n",
       "      <td>Mount Bierstadt Trail</td>\n",
       "      <td>Arapaho National Forest</td>\n",
       "      <td>7.3</td>\n",
       "      <td>2767</td>\n",
       "      <td>3</td>\n",
       "      <td>4.3</td>\n",
       "      <td>0</td>\n",
       "      <td>...</td>\n",
       "      <td>0</td>\n",
       "      <td>1</td>\n",
       "      <td>0</td>\n",
       "      <td>0</td>\n",
       "      <td>0</td>\n",
       "      <td>0</td>\n",
       "      <td>1</td>\n",
       "      <td>1</td>\n",
       "      <td>1</td>\n",
       "      <td>1</td>\n",
       "    </tr>\n",
       "    <tr>\n",
       "      <th>4614</th>\n",
       "      <td>11584</td>\n",
       "      <td>28</td>\n",
       "      <td>3</td>\n",
       "      <td>Crater Lakes Trail</td>\n",
       "      <td>Roosevelt National Forest</td>\n",
       "      <td>5.4</td>\n",
       "      <td>1444</td>\n",
       "      <td>3</td>\n",
       "      <td>4.5</td>\n",
       "      <td>0</td>\n",
       "      <td>...</td>\n",
       "      <td>0</td>\n",
       "      <td>1</td>\n",
       "      <td>0</td>\n",
       "      <td>1</td>\n",
       "      <td>0</td>\n",
       "      <td>1</td>\n",
       "      <td>1</td>\n",
       "      <td>1</td>\n",
       "      <td>1</td>\n",
       "      <td>1</td>\n",
       "    </tr>\n",
       "    <tr>\n",
       "      <th>4088</th>\n",
       "      <td>2864</td>\n",
       "      <td>3</td>\n",
       "      <td>5</td>\n",
       "      <td>The Incline Trail</td>\n",
       "      <td>Manitou Park Recreation Area</td>\n",
       "      <td>3.6</td>\n",
       "      <td>1976</td>\n",
       "      <td>3</td>\n",
       "      <td>4.7</td>\n",
       "      <td>1</td>\n",
       "      <td>...</td>\n",
       "      <td>0</td>\n",
       "      <td>0</td>\n",
       "      <td>0</td>\n",
       "      <td>0</td>\n",
       "      <td>0</td>\n",
       "      <td>0</td>\n",
       "      <td>0</td>\n",
       "      <td>1</td>\n",
       "      <td>1</td>\n",
       "      <td>1</td>\n",
       "    </tr>\n",
       "  </tbody>\n",
       "</table>\n",
       "<p>5 rows × 21 columns</p>\n",
       "</div>"
      ],
      "text/plain": [
       "       user_id  hike_id  rating              hike_name  \\\n",
       "11733    11544      927       4         Saxon Mountain   \n",
       "20687     7271      248       4     Zapata Falls Trail   \n",
       "6167      1706        9       5  Mount Bierstadt Trail   \n",
       "4614     11584       28       3     Crater Lakes Trail   \n",
       "4088      2864        3       5      The Incline Trail   \n",
       "\n",
       "                        hike_region  total_distance  elevation_gain  \\\n",
       "11733       Atapaho National Forest            14.2            3577   \n",
       "20687    Rio Grande National Forest             0.9             233   \n",
       "6167        Arapaho National Forest             7.3            2767   \n",
       "4614      Roosevelt National Forest             5.4            1444   \n",
       "4088   Manitou Park Recreation Area             3.6            1976   \n",
       "\n",
       "       hike_difficulty  stars  loop  ...  point_to_point  dog_friendly  \\\n",
       "11733                3    3.7     0  ...               0             1   \n",
       "20687                2    4.4     0  ...               0             1   \n",
       "6167                 3    4.3     0  ...               0             1   \n",
       "4614                 3    4.5     0  ...               0             1   \n",
       "4088                 3    4.7     1  ...               0             0   \n",
       "\n",
       "       kid_friendly  camping  waterfall  river  lake  wildflowers  wildlife  \\\n",
       "11733             0        0          0      0     0            1         1   \n",
       "20687             1        0          1      1     0            1         0   \n",
       "6167              0        0          0      0     1            1         1   \n",
       "4614              0        1          0      1     1            1         1   \n",
       "4088              0        0          0      0     0            1         1   \n",
       "\n",
       "       views  \n",
       "11733      1  \n",
       "20687      1  \n",
       "6167       1  \n",
       "4614       1  \n",
       "4088       1  \n",
       "\n",
       "[5 rows x 21 columns]"
      ]
     },
     "execution_count": 602,
     "metadata": {},
     "output_type": "execute_result"
    }
   ],
   "source": [
    "df_train.tail()"
   ]
  },
  {
   "cell_type": "markdown",
   "metadata": {},
   "source": [
    "## Interactions matrix"
   ]
  },
  {
   "cell_type": "code",
   "execution_count": 584,
   "metadata": {},
   "outputs": [
    {
     "name": "stdout",
     "output_type": "stream",
     "text": [
      "<11891x1487 sparse matrix of type '<class 'numpy.float32'>'\n",
      "\twith 23842 stored elements in COOrdinate format>\n"
     ]
    }
   ],
   "source": [
    "(train, weights_train) = dataset.build_interactions(((x[0], x[1])\n",
    "                                                      for x in get_ratings(df_train)))\n",
    "\n",
    "print(repr(interactions))"
   ]
  },
  {
   "cell_type": "code",
   "execution_count": 585,
   "metadata": {},
   "outputs": [
    {
     "name": "stdout",
     "output_type": "stream",
     "text": [
      "<11891x1487 sparse matrix of type '<class 'numpy.int32'>'\n",
      "\twith 4768 stored elements in COOrdinate format>\n"
     ]
    }
   ],
   "source": [
    "(test, weights_test) = dataset.build_interactions(((x[0], x[1])\n",
    "                                                      for x in get_ratings(df_test)))\n",
    "\n",
    "print(repr(test))"
   ]
  },
  {
   "cell_type": "code",
   "execution_count": 586,
   "metadata": {},
   "outputs": [
    {
     "name": "stdout",
     "output_type": "stream",
     "text": [
      "<1487x2950 sparse matrix of type '<class 'numpy.float32'>'\n",
      "\twith 2917 stored elements in Compressed Sparse Row format>\n"
     ]
    }
   ],
   "source": [
    "item_features_train = dataset.build_item_features(((x[0], [x[1]])\n",
    "                                              for x in get_features(df_train)))\n",
    "print(repr(item_features_train))"
   ]
  },
  {
   "cell_type": "code",
   "execution_count": 587,
   "metadata": {},
   "outputs": [
    {
     "name": "stdout",
     "output_type": "stream",
     "text": [
      "<1487x2950 sparse matrix of type '<class 'numpy.float32'>'\n",
      "\twith 2917 stored elements in Compressed Sparse Row format>\n"
     ]
    }
   ],
   "source": [
    "item_features_test = dataset.build_item_features(((x[0], [x[1]])\n",
    "                                              for x in get_features(df_test)))\n",
    "print(repr(item_features_train))"
   ]
  },
  {
   "cell_type": "code",
   "execution_count": 596,
   "metadata": {},
   "outputs": [
    {
     "name": "stdout",
     "output_type": "stream",
     "text": [
      "AUC: 0.95252883\n"
     ]
    }
   ],
   "source": [
    "train_auc = auc_score(model, train, item_features=item_features_train, num_threads=2).mean()\n",
    "print('AUC: %s' % train_auc)"
   ]
  },
  {
   "cell_type": "code",
   "execution_count": 595,
   "metadata": {},
   "outputs": [
    {
     "name": "stdout",
     "output_type": "stream",
     "text": [
      "Collaborative filtering test AUC: 0.9491917\n"
     ]
    }
   ],
   "source": [
    "test_auc = auc_score(model, test, item_features=item_features_test, num_threads=2).mean()\n",
    "print('Collaborative filtering test AUC: %s' % test_auc)"
   ]
  },
  {
   "cell_type": "code",
   "execution_count": 607,
   "metadata": {},
   "outputs": [
    {
     "name": "stdout",
     "output_type": "stream",
     "text": [
      "Wall time: 1.58 s\n"
     ]
    },
    {
     "data": {
      "text/plain": [
       "<lightfm.lightfm.LightFM at 0x1e0aa1de9c8>"
      ]
     },
     "execution_count": 607,
     "metadata": {},
     "output_type": "execute_result"
    }
   ],
   "source": [
    "model = LightFM(loss='warp')\n",
    "%time model.fit(train, epochs=50, num_threads=2)"
   ]
  },
  {
   "cell_type": "code",
   "execution_count": 610,
   "metadata": {},
   "outputs": [
    {
     "name": "stdout",
     "output_type": "stream",
     "text": [
      "User 11544\n",
      "     Known positives:\n",
      "        Maxwell Falls Lower Trail\n",
      "     Recommended:\n",
      "        Mount Falcon Castle Trail\n",
      "        Mount Falcon Castle Trail\n",
      "        Mount Falcon Castle Trail\n",
      "        Spruce Mountain Trail\n",
      "        Spruce Mountain Trail\n",
      "User 7000\n",
      "     Known positives:\n",
      "        Mount Falcon Castle Trail\n",
      "     Recommended:\n",
      "        Mount Falcon Castle Trail\n",
      "        Mount Falcon Castle Trail\n",
      "        Spruce Mountain Trail\n",
      "        Spruce Mountain Trail\n",
      "        Mount Sanitas Trail\n",
      "User 2000\n",
      "     Known positives:\n",
      "        Spruce Mountain Trail\n",
      "     Recommended:\n",
      "        Spruce Mountain Trail\n",
      "        Spruce Mountain Trail\n",
      "        Spruce Mountain Trail\n",
      "        Mount Falcon Castle Trail\n",
      "        Mount Falcon Castle Trail\n"
     ]
    }
   ],
   "source": [
    "def sample_recommendation(model, data, user_ids):\n",
    "\n",
    "    n_users, n_items = interactions.shape\n",
    "\n",
    "    for user_id in user_ids:\n",
    "        known_positives = df['hike_name'][interactions.tocsr()[user_id].indices]\n",
    "\n",
    "        scores = model.predict(user_id, np.arange(n_items))\n",
    "        top_items = data['hike_name'][np.argsort(-scores)]\n",
    "\n",
    "        print(\"User %s\" % user_id)\n",
    "        print(\"     Known positives:\")\n",
    "\n",
    "        for x in known_positives[:1]:\n",
    "            print(\"        %s\" % x)\n",
    "\n",
    "        print(\"     Recommended:\")\n",
    "\n",
    "        for x in top_items[:5]:\n",
    "            print(\"        %s\" % x)\n",
    "\n",
    "sample_recommendation(model, df, [11544, 7000, 2000])"
   ]
  },
  {
   "cell_type": "code",
   "execution_count": null,
   "metadata": {},
   "outputs": [],
   "source": []
  }
 ],
 "metadata": {
  "kernelspec": {
   "display_name": "Python 3",
   "language": "python",
   "name": "python3"
  },
  "language_info": {
   "codemirror_mode": {
    "name": "ipython",
    "version": 3
   },
   "file_extension": ".py",
   "mimetype": "text/x-python",
   "name": "python",
   "nbconvert_exporter": "python",
   "pygments_lexer": "ipython3",
   "version": "3.7.7"
  }
 },
 "nbformat": 4,
 "nbformat_minor": 4
}
