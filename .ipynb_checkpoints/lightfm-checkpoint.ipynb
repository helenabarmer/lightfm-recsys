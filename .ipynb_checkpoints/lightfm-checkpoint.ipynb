{
 "cells": [
  {
   "cell_type": "markdown",
   "metadata": {},
   "source": [
    "# LightFM\n",
    "\n",
    "* Hybrid model (content based and collaborative filtering)\n",
    "\n",
    "## Installation\n",
    "`conda install -c conda-forge lightfm`"
   ]
  },
  {
   "cell_type": "code",
   "execution_count": 34,
   "metadata": {},
   "outputs": [
    {
     "name": "stdout",
     "output_type": "stream",
     "text": [
      "Libraries imported\n"
     ]
    }
   ],
   "source": [
    "from lightfm import LightFM\n",
    "import numpy as np\n",
    "import pandas as pd\n",
    "from lightfm.datasets import fetch_movielens\n",
    "import math\n",
    "\n",
    "print(\"Libraries imported\")"
   ]
  },
  {
   "cell_type": "code",
   "execution_count": 3,
   "metadata": {},
   "outputs": [
    {
     "name": "stdout",
     "output_type": "stream",
     "text": [
      "train\n",
      "test\n",
      "item_features\n",
      "item_feature_labels\n",
      "item_labels\n"
     ]
    }
   ],
   "source": [
    "# Fetch LightFM dataset movielens\n",
    "data = fetch_movielens(min_rating=4.0)\n",
    "\n",
    "for i in data:\n",
    "    print(i)"
   ]
  },
  {
   "cell_type": "code",
   "execution_count": 4,
   "metadata": {},
   "outputs": [
    {
     "name": "stdout",
     "output_type": "stream",
     "text": [
      "1: Toy Story (1995)\n",
      "2: GoldenEye (1995)\n",
      "3: Four Rooms (1995)\n",
      "4: Get Shorty (1995)\n",
      "5: Copycat (1995)\n"
     ]
    }
   ],
   "source": [
    "# Example of item_feature_labels\n",
    "count = 0;\n",
    "for i in data['item_feature_labels']:\n",
    "    if(count <5):\n",
    "        print(f'{count+1}: {i}')\n",
    "        count+=1"
   ]
  },
  {
   "cell_type": "code",
   "execution_count": 5,
   "metadata": {},
   "outputs": [
    {
     "name": "stdout",
     "output_type": "stream",
     "text": [
      "TRAIN:  <943x1682 sparse matrix of type '<class 'numpy.int32'>'\n",
      "\twith 49906 stored elements in COOrdinate format> \n",
      "\n",
      "TEST:  <943x1682 sparse matrix of type '<class 'numpy.int32'>'\n",
      "\twith 5469 stored elements in COOrdinate format> \n",
      "\n",
      "TYPE:  <class 'scipy.sparse.coo.coo_matrix'>\n"
     ]
    }
   ],
   "source": [
    "print('TRAIN: ', repr(data['train']), '\\n\\nTEST: ', repr(data['test']),\n",
    "     '\\n\\nTYPE: ', type(data['train']))"
   ]
  },
  {
   "cell_type": "code",
   "execution_count": 6,
   "metadata": {},
   "outputs": [],
   "source": [
    "train = data['train']\n",
    "test = data['test']"
   ]
  },
  {
   "cell_type": "markdown",
   "metadata": {},
   "source": [
    "## Traditional collaborative filtering model "
   ]
  },
  {
   "cell_type": "code",
   "execution_count": 7,
   "metadata": {},
   "outputs": [
    {
     "name": "stdout",
     "output_type": "stream",
     "text": [
      "Wall time: 5.04 s\n"
     ]
    }
   ],
   "source": [
    "NUM_THREADS = 2\n",
    "EPOCHS = 50\n",
    "\n",
    "# Create model\n",
    "model = LightFM(loss='warp')\n",
    "\n",
    "# Start training\n",
    "%time model = model.fit(train, epochs=EPOCHS, num_threads=NUM_THREADS)"
   ]
  },
  {
   "cell_type": "code",
   "execution_count": 19,
   "metadata": {},
   "outputs": [
    {
     "name": "stdout",
     "output_type": "stream",
     "text": [
      "AUC: 96%\n",
      "AUC: 93%\n"
     ]
    }
   ],
   "source": [
    "# Import the evaluation routines\n",
    "from lightfm.evaluation import auc_score\n",
    "\n",
    "# Compute and print the AUC score, train set\n",
    "train_auc = auc_score(model, train, num_threads=NUM_THREADS).mean()\n",
    "print(f'AUC: {math.trunc(train_auc*100)}%')\n",
    "\n",
    "# Compute and print the AUC score, test set\n",
    "test_auc = auc_score(model, test, train_interactions=train, num_threads=NUM_THREADS).mean()\n",
    "print(f'AUC: {math.trunc(test_auc*100)}%')"
   ]
  },
  {
   "cell_type": "markdown",
   "metadata": {},
   "source": [
    "## Hybrid model"
   ]
  },
  {
   "cell_type": "code",
   "execution_count": 9,
   "metadata": {},
   "outputs": [],
   "source": [
    "# Item features\n",
    "item_features = data['item_features']\n",
    "\n",
    "# Define model \n",
    "hybrid_model = LightFM(loss='warp')\n",
    "\n",
    "# Fit the hybrid model. Note that this time, we pass\n",
    "# in the item features matrix.\n",
    "hybrid_model = hybrid_model.fit(train,\n",
    "                item_features=item_features,\n",
    "                epochs=EPOCHS,\n",
    "                num_threads=NUM_THREADS)"
   ]
  },
  {
   "cell_type": "code",
   "execution_count": 17,
   "metadata": {},
   "outputs": [
    {
     "name": "stdout",
     "output_type": "stream",
     "text": [
      "AUC: 96%\n"
     ]
    }
   ],
   "source": [
    "train_auc = auc_score(hybrid_model,\n",
    "                      train,\n",
    "                      item_features=item_features,\n",
    "                      num_threads=NUM_THREADS).mean()\n",
    "print(f'AUC: {math.trunc(train_auc*100)}%')"
   ]
  },
  {
   "cell_type": "code",
   "execution_count": 20,
   "metadata": {},
   "outputs": [
    {
     "name": "stdout",
     "output_type": "stream",
     "text": [
      "AUC: 93%\n"
     ]
    }
   ],
   "source": [
    "test_auc = auc_score(hybrid_model,\n",
    "                    test,\n",
    "                    train_interactions=train,\n",
    "                    item_features=item_features,\n",
    "                    num_threads=NUM_THREADS).mean()\n",
    "print(f'AUC: {math.trunc(test_auc*100)}%')"
   ]
  },
  {
   "cell_type": "markdown",
   "metadata": {},
   "source": [
    "## User recommendation"
   ]
  },
  {
   "cell_type": "code",
   "execution_count": 22,
   "metadata": {},
   "outputs": [],
   "source": [
    "# Users, items\n",
    "n_users, n_items = data['train'].shape"
   ]
  },
  {
   "cell_type": "code",
   "execution_count": 23,
   "metadata": {},
   "outputs": [],
   "source": [
    "# User 351\n",
    "liked_movies = data['item_labels'][data['train'].tocsr()[200].indices]"
   ]
  },
  {
   "cell_type": "code",
   "execution_count": 24,
   "metadata": {},
   "outputs": [
    {
     "data": {
      "text/plain": [
       "array([-5.76857471, -7.0861845 , -6.53366566, ..., -8.78007603,\n",
       "       -8.84602356, -8.85424137])"
      ]
     },
     "execution_count": 24,
     "metadata": {},
     "output_type": "execute_result"
    }
   ],
   "source": [
    "# User 351\n",
    "scores = hybrid_model.predict(200, np.arange(n_items))\n",
    "scores"
   ]
  },
  {
   "cell_type": "code",
   "execution_count": 32,
   "metadata": {},
   "outputs": [
    {
     "name": "stdout",
     "output_type": "stream",
     "text": [
      "PREVIOUS LIKED MOVIES:\n",
      "* Get Shorty (1995)\n",
      "* Seven (Se7en) (1995)\n",
      "* Usual Suspects, The (1995)\n",
      "* Taxi Driver (1976)\n",
      "* Brothers McMullen, The (1995)\n",
      "\n",
      "\n",
      "RECOMMENDED MOVIES:\n",
      "* Pulp Fiction (1994)\n",
      "* Usual Suspects, The (1995)\n",
      "* Taxi Driver (1976)\n",
      "* GoodFellas (1990)\n",
      "* Fargo (1996)\n"
     ]
    }
   ],
   "source": [
    "top_items = data['item_labels'][np.argsort(-scores)]\n",
    "\n",
    "print('PREVIOUS LIKED MOVIES:') \n",
    "for i in liked_movies[:5]:\n",
    "    print('*',i) \n",
    "\n",
    "print('\\n') \n",
    "\n",
    "print('RECOMMENDED MOVIES:')\n",
    "for x in top_items[:5]:\n",
    "    print('*',x)"
   ]
  },
  {
   "cell_type": "markdown",
   "metadata": {},
   "source": [
    "## External dataset\n",
    "\n",
    "Dataset from [this](https://github.com/oschow/take-a-hike) repo."
   ]
  },
  {
   "cell_type": "code",
   "execution_count": 250,
   "metadata": {},
   "outputs": [],
   "source": [
    "# Data\n",
    "data = 'https://raw.githubusercontent.com/oschow/take-a-hike/master/AllTrails/data/all_ratings_matrix.csv'\n",
    "df = pd.read_csv(data)\n",
    "\n",
    "# Features\n",
    "data_features = 'https://raw.githubusercontent.com/oschow/take-a-hike/master/AllTrails/data/all_hikes_with_hike_id.csv'\n",
    "df_features = pd.read_csv(data_features)"
   ]
  },
  {
   "cell_type": "code",
   "execution_count": 251,
   "metadata": {},
   "outputs": [
    {
     "data": {
      "text/html": [
       "<div>\n",
       "<style scoped>\n",
       "    .dataframe tbody tr th:only-of-type {\n",
       "        vertical-align: middle;\n",
       "    }\n",
       "\n",
       "    .dataframe tbody tr th {\n",
       "        vertical-align: top;\n",
       "    }\n",
       "\n",
       "    .dataframe thead th {\n",
       "        text-align: right;\n",
       "    }\n",
       "</style>\n",
       "<table border=\"1\" class=\"dataframe\">\n",
       "  <thead>\n",
       "    <tr style=\"text-align: right;\">\n",
       "      <th></th>\n",
       "      <th>hike_id</th>\n",
       "      <th>variable</th>\n",
       "      <th>value</th>\n",
       "      <th>hike_region</th>\n",
       "      <th>total_distance</th>\n",
       "      <th>elevation_gain</th>\n",
       "      <th>hike_difficulty</th>\n",
       "      <th>stars</th>\n",
       "      <th>loop</th>\n",
       "      <th>out_and_back</th>\n",
       "      <th>point_to_point</th>\n",
       "      <th>dog_friendly</th>\n",
       "      <th>kid_friendly</th>\n",
       "      <th>camping</th>\n",
       "      <th>waterfall</th>\n",
       "      <th>river</th>\n",
       "      <th>lake</th>\n",
       "      <th>wildflowers</th>\n",
       "      <th>wildlife</th>\n",
       "      <th>views</th>\n",
       "    </tr>\n",
       "  </thead>\n",
       "  <tbody>\n",
       "    <tr>\n",
       "      <th>0</th>\n",
       "      <td>hike43</td>\n",
       "      <td>user1</td>\n",
       "      <td>4</td>\n",
       "      <td>Pike National Forest</td>\n",
       "      <td>5.5</td>\n",
       "      <td>732</td>\n",
       "      <td>2</td>\n",
       "      <td>4.3</td>\n",
       "      <td>1</td>\n",
       "      <td>0</td>\n",
       "      <td>0</td>\n",
       "      <td>1</td>\n",
       "      <td>1</td>\n",
       "      <td>0</td>\n",
       "      <td>0</td>\n",
       "      <td>0</td>\n",
       "      <td>0</td>\n",
       "      <td>1</td>\n",
       "      <td>1</td>\n",
       "      <td>1</td>\n",
       "    </tr>\n",
       "    <tr>\n",
       "      <th>1</th>\n",
       "      <td>hike43</td>\n",
       "      <td>user10076</td>\n",
       "      <td>5</td>\n",
       "      <td>Pike National Forest</td>\n",
       "      <td>5.5</td>\n",
       "      <td>732</td>\n",
       "      <td>2</td>\n",
       "      <td>4.3</td>\n",
       "      <td>1</td>\n",
       "      <td>0</td>\n",
       "      <td>0</td>\n",
       "      <td>1</td>\n",
       "      <td>1</td>\n",
       "      <td>0</td>\n",
       "      <td>0</td>\n",
       "      <td>0</td>\n",
       "      <td>0</td>\n",
       "      <td>1</td>\n",
       "      <td>1</td>\n",
       "      <td>1</td>\n",
       "    </tr>\n",
       "    <tr>\n",
       "      <th>2</th>\n",
       "      <td>hike43</td>\n",
       "      <td>user10196</td>\n",
       "      <td>4</td>\n",
       "      <td>Pike National Forest</td>\n",
       "      <td>5.5</td>\n",
       "      <td>732</td>\n",
       "      <td>2</td>\n",
       "      <td>4.3</td>\n",
       "      <td>1</td>\n",
       "      <td>0</td>\n",
       "      <td>0</td>\n",
       "      <td>1</td>\n",
       "      <td>1</td>\n",
       "      <td>0</td>\n",
       "      <td>0</td>\n",
       "      <td>0</td>\n",
       "      <td>0</td>\n",
       "      <td>1</td>\n",
       "      <td>1</td>\n",
       "      <td>1</td>\n",
       "    </tr>\n",
       "    <tr>\n",
       "      <th>3</th>\n",
       "      <td>hike43</td>\n",
       "      <td>user10349</td>\n",
       "      <td>4</td>\n",
       "      <td>Pike National Forest</td>\n",
       "      <td>5.5</td>\n",
       "      <td>732</td>\n",
       "      <td>2</td>\n",
       "      <td>4.3</td>\n",
       "      <td>1</td>\n",
       "      <td>0</td>\n",
       "      <td>0</td>\n",
       "      <td>1</td>\n",
       "      <td>1</td>\n",
       "      <td>0</td>\n",
       "      <td>0</td>\n",
       "      <td>0</td>\n",
       "      <td>0</td>\n",
       "      <td>1</td>\n",
       "      <td>1</td>\n",
       "      <td>1</td>\n",
       "    </tr>\n",
       "    <tr>\n",
       "      <th>4</th>\n",
       "      <td>hike43</td>\n",
       "      <td>user10351</td>\n",
       "      <td>4</td>\n",
       "      <td>Pike National Forest</td>\n",
       "      <td>5.5</td>\n",
       "      <td>732</td>\n",
       "      <td>2</td>\n",
       "      <td>4.3</td>\n",
       "      <td>1</td>\n",
       "      <td>0</td>\n",
       "      <td>0</td>\n",
       "      <td>1</td>\n",
       "      <td>1</td>\n",
       "      <td>0</td>\n",
       "      <td>0</td>\n",
       "      <td>0</td>\n",
       "      <td>0</td>\n",
       "      <td>1</td>\n",
       "      <td>1</td>\n",
       "      <td>1</td>\n",
       "    </tr>\n",
       "  </tbody>\n",
       "</table>\n",
       "</div>"
      ],
      "text/plain": [
       "  hike_id   variable  value           hike_region  total_distance  \\\n",
       "0  hike43      user1      4  Pike National Forest             5.5   \n",
       "1  hike43  user10076      5  Pike National Forest             5.5   \n",
       "2  hike43  user10196      4  Pike National Forest             5.5   \n",
       "3  hike43  user10349      4  Pike National Forest             5.5   \n",
       "4  hike43  user10351      4  Pike National Forest             5.5   \n",
       "\n",
       "   elevation_gain  hike_difficulty  stars  loop  out_and_back  point_to_point  \\\n",
       "0             732                2    4.3     1             0               0   \n",
       "1             732                2    4.3     1             0               0   \n",
       "2             732                2    4.3     1             0               0   \n",
       "3             732                2    4.3     1             0               0   \n",
       "4             732                2    4.3     1             0               0   \n",
       "\n",
       "   dog_friendly  kid_friendly  camping  waterfall  river  lake  wildflowers  \\\n",
       "0             1             1        0          0      0     0            1   \n",
       "1             1             1        0          0      0     0            1   \n",
       "2             1             1        0          0      0     0            1   \n",
       "3             1             1        0          0      0     0            1   \n",
       "4             1             1        0          0      0     0            1   \n",
       "\n",
       "   wildlife  views  \n",
       "0         1      1  \n",
       "1         1      1  \n",
       "2         1      1  \n",
       "3         1      1  \n",
       "4         1      1  "
      ]
     },
     "execution_count": 251,
     "metadata": {},
     "output_type": "execute_result"
    }
   ],
   "source": [
    "# Merge dataframes\n",
    "df = pd.merge(df, df_features, on='hike_id')\n",
    "df.head()"
   ]
  },
  {
   "cell_type": "code",
   "execution_count": 252,
   "metadata": {},
   "outputs": [],
   "source": [
    "# Rename variable to user id\n",
    "df['user_id'] = df['variable'] \n",
    "df = df.drop('variable', 1)\n",
    "\n",
    "# Rename value to rating\n",
    "df['rating'] = df['value'] \n",
    "df = df.drop('value', 1)"
   ]
  },
  {
   "cell_type": "code",
   "execution_count": 253,
   "metadata": {},
   "outputs": [],
   "source": [
    "# Remove string\n",
    "df['hike_id'] = df.hike_id.str.strip('hike')\n",
    "\n",
    "df['user_id'] = df.hike_id.str.strip('user')\n",
    "\n",
    "# Convert to int\n",
    "\n",
    "df['hike_id'] = pd.to_numeric(df.hike_id, errors='coerce')\n",
    "\n",
    "df['user_id'] = pd.to_numeric(df.user_id, errors='coerce')"
   ]
  },
  {
   "cell_type": "code",
   "execution_count": 254,
   "metadata": {},
   "outputs": [
    {
     "name": "stdout",
     "output_type": "stream",
     "text": [
      "Hike Id Type: <class 'numpy.int64'>\n",
      "User Id Type: <class 'numpy.int64'>\n"
     ]
    }
   ],
   "source": [
    "print(f'Hike Id Type: {type(df.hike_id[0])}\\nUser Id Type: {type(df.user_id[0])}')"
   ]
  },
  {
   "cell_type": "code",
   "execution_count": 255,
   "metadata": {},
   "outputs": [
    {
     "data": {
      "text/html": [
       "<div>\n",
       "<style scoped>\n",
       "    .dataframe tbody tr th:only-of-type {\n",
       "        vertical-align: middle;\n",
       "    }\n",
       "\n",
       "    .dataframe tbody tr th {\n",
       "        vertical-align: top;\n",
       "    }\n",
       "\n",
       "    .dataframe thead th {\n",
       "        text-align: right;\n",
       "    }\n",
       "</style>\n",
       "<table border=\"1\" class=\"dataframe\">\n",
       "  <thead>\n",
       "    <tr style=\"text-align: right;\">\n",
       "      <th></th>\n",
       "      <th>user_id</th>\n",
       "      <th>hike_id</th>\n",
       "      <th>rating</th>\n",
       "      <th>hike_region</th>\n",
       "      <th>total_distance</th>\n",
       "      <th>elevation_gain</th>\n",
       "      <th>hike_difficulty</th>\n",
       "      <th>stars</th>\n",
       "      <th>loop</th>\n",
       "      <th>out_and_back</th>\n",
       "      <th>point_to_point</th>\n",
       "      <th>dog_friendly</th>\n",
       "      <th>kid_friendly</th>\n",
       "      <th>camping</th>\n",
       "      <th>waterfall</th>\n",
       "      <th>river</th>\n",
       "      <th>lake</th>\n",
       "      <th>wildflowers</th>\n",
       "      <th>wildlife</th>\n",
       "      <th>views</th>\n",
       "    </tr>\n",
       "  </thead>\n",
       "  <tbody>\n",
       "    <tr>\n",
       "      <th>0</th>\n",
       "      <td>43</td>\n",
       "      <td>43</td>\n",
       "      <td>4</td>\n",
       "      <td>Pike National Forest</td>\n",
       "      <td>5.5</td>\n",
       "      <td>732</td>\n",
       "      <td>2</td>\n",
       "      <td>4.3</td>\n",
       "      <td>1</td>\n",
       "      <td>0</td>\n",
       "      <td>0</td>\n",
       "      <td>1</td>\n",
       "      <td>1</td>\n",
       "      <td>0</td>\n",
       "      <td>0</td>\n",
       "      <td>0</td>\n",
       "      <td>0</td>\n",
       "      <td>1</td>\n",
       "      <td>1</td>\n",
       "      <td>1</td>\n",
       "    </tr>\n",
       "    <tr>\n",
       "      <th>1</th>\n",
       "      <td>43</td>\n",
       "      <td>43</td>\n",
       "      <td>5</td>\n",
       "      <td>Pike National Forest</td>\n",
       "      <td>5.5</td>\n",
       "      <td>732</td>\n",
       "      <td>2</td>\n",
       "      <td>4.3</td>\n",
       "      <td>1</td>\n",
       "      <td>0</td>\n",
       "      <td>0</td>\n",
       "      <td>1</td>\n",
       "      <td>1</td>\n",
       "      <td>0</td>\n",
       "      <td>0</td>\n",
       "      <td>0</td>\n",
       "      <td>0</td>\n",
       "      <td>1</td>\n",
       "      <td>1</td>\n",
       "      <td>1</td>\n",
       "    </tr>\n",
       "    <tr>\n",
       "      <th>2</th>\n",
       "      <td>43</td>\n",
       "      <td>43</td>\n",
       "      <td>4</td>\n",
       "      <td>Pike National Forest</td>\n",
       "      <td>5.5</td>\n",
       "      <td>732</td>\n",
       "      <td>2</td>\n",
       "      <td>4.3</td>\n",
       "      <td>1</td>\n",
       "      <td>0</td>\n",
       "      <td>0</td>\n",
       "      <td>1</td>\n",
       "      <td>1</td>\n",
       "      <td>0</td>\n",
       "      <td>0</td>\n",
       "      <td>0</td>\n",
       "      <td>0</td>\n",
       "      <td>1</td>\n",
       "      <td>1</td>\n",
       "      <td>1</td>\n",
       "    </tr>\n",
       "    <tr>\n",
       "      <th>3</th>\n",
       "      <td>43</td>\n",
       "      <td>43</td>\n",
       "      <td>4</td>\n",
       "      <td>Pike National Forest</td>\n",
       "      <td>5.5</td>\n",
       "      <td>732</td>\n",
       "      <td>2</td>\n",
       "      <td>4.3</td>\n",
       "      <td>1</td>\n",
       "      <td>0</td>\n",
       "      <td>0</td>\n",
       "      <td>1</td>\n",
       "      <td>1</td>\n",
       "      <td>0</td>\n",
       "      <td>0</td>\n",
       "      <td>0</td>\n",
       "      <td>0</td>\n",
       "      <td>1</td>\n",
       "      <td>1</td>\n",
       "      <td>1</td>\n",
       "    </tr>\n",
       "    <tr>\n",
       "      <th>4</th>\n",
       "      <td>43</td>\n",
       "      <td>43</td>\n",
       "      <td>4</td>\n",
       "      <td>Pike National Forest</td>\n",
       "      <td>5.5</td>\n",
       "      <td>732</td>\n",
       "      <td>2</td>\n",
       "      <td>4.3</td>\n",
       "      <td>1</td>\n",
       "      <td>0</td>\n",
       "      <td>0</td>\n",
       "      <td>1</td>\n",
       "      <td>1</td>\n",
       "      <td>0</td>\n",
       "      <td>0</td>\n",
       "      <td>0</td>\n",
       "      <td>0</td>\n",
       "      <td>1</td>\n",
       "      <td>1</td>\n",
       "      <td>1</td>\n",
       "    </tr>\n",
       "  </tbody>\n",
       "</table>\n",
       "</div>"
      ],
      "text/plain": [
       "   user_id  hike_id  rating           hike_region  total_distance  \\\n",
       "0       43       43       4  Pike National Forest             5.5   \n",
       "1       43       43       5  Pike National Forest             5.5   \n",
       "2       43       43       4  Pike National Forest             5.5   \n",
       "3       43       43       4  Pike National Forest             5.5   \n",
       "4       43       43       4  Pike National Forest             5.5   \n",
       "\n",
       "   elevation_gain  hike_difficulty  stars  loop  out_and_back  point_to_point  \\\n",
       "0             732                2    4.3     1             0               0   \n",
       "1             732                2    4.3     1             0               0   \n",
       "2             732                2    4.3     1             0               0   \n",
       "3             732                2    4.3     1             0               0   \n",
       "4             732                2    4.3     1             0               0   \n",
       "\n",
       "   dog_friendly  kid_friendly  camping  waterfall  river  lake  wildflowers  \\\n",
       "0             1             1        0          0      0     0            1   \n",
       "1             1             1        0          0      0     0            1   \n",
       "2             1             1        0          0      0     0            1   \n",
       "3             1             1        0          0      0     0            1   \n",
       "4             1             1        0          0      0     0            1   \n",
       "\n",
       "   wildlife  views  \n",
       "0         1      1  \n",
       "1         1      1  \n",
       "2         1      1  \n",
       "3         1      1  \n",
       "4         1      1  "
      ]
     },
     "execution_count": 255,
     "metadata": {},
     "output_type": "execute_result"
    }
   ],
   "source": [
    "# Change order of columns\n",
    "df = df[['user_id', 'hike_id', 'rating', 'hike_region','total_distance','elevation_gain','hike_difficulty','stars','loop', 'out_and_back', 'point_to_point','dog_friendly', 'kid_friendly', 'camping', 'waterfall', 'river','lake', 'wildflowers', 'wildlife','views']]\n",
    "df.head()"
   ]
  },
  {
   "cell_type": "code",
   "execution_count": 288,
   "metadata": {},
   "outputs": [],
   "source": [
    "def get_ratings(df):\n",
    "    ratings = []\n",
    "    df = df[['user_id', 'hike_id', 'rating']]\n",
    "    \n",
    "    for x in df.values:\n",
    "        ratings.append(x)\n",
    "    \n",
    "    return ratings"
   ]
  },
  {
   "cell_type": "code",
   "execution_count": 300,
   "metadata": {},
   "outputs": [],
   "source": [
    "def get_features(df):\n",
    "    df = df.drop(['user_id', 'rating'], 1)\n",
    " \n",
    "    features = []\n",
    "    for x in df.values:\n",
    "        features.append(x)\n",
    "    \n",
    "    return features"
   ]
  },
  {
   "cell_type": "code",
   "execution_count": 269,
   "metadata": {},
   "outputs": [],
   "source": [
    "#df_pivot = df.pivot_table(index='variable',columns='hike_id',values='value')"
   ]
  },
  {
   "cell_type": "code",
   "execution_count": 309,
   "metadata": {},
   "outputs": [],
   "source": [
    "from lightfm.data import Dataset\n",
    "\n",
    "dataset = Dataset()\n",
    "dataset.fit((x[0] for x in get_ratings(df)),\n",
    "            (x[1] for x in get_ratings(df)))"
   ]
  },
  {
   "cell_type": "code",
   "execution_count": 310,
   "metadata": {},
   "outputs": [
    {
     "name": "stdout",
     "output_type": "stream",
     "text": [
      "Num users: 1487, num_items 1487.\n"
     ]
    }
   ],
   "source": [
    "num_users, num_items = dataset.interactions_shape()\n",
    "print('Num users: {}, num_items {}.'.format(num_users, num_items))"
   ]
  },
  {
   "cell_type": "markdown",
   "metadata": {},
   "source": [
    "## Supply additional id's with fit_partial()\n",
    "Ff we don’t have all user and items ids at once, we can repeatedly call `fit_partial` to supply additional ids. In this case, we will use this capability to add some item feature mappings"
   ]
  },
  {
   "cell_type": "code",
   "execution_count": 311,
   "metadata": {},
   "outputs": [],
   "source": [
    "dataset.fit_partial(items=(x[0] for x in get_features(df)),\n",
    "                    item_features=(x[1] for x in get_features(df)))"
   ]
  },
  {
   "cell_type": "markdown",
   "metadata": {},
   "source": [
    "## Building the interactions matrix"
   ]
  },
  {
   "cell_type": "code",
   "execution_count": 312,
   "metadata": {},
   "outputs": [
    {
     "name": "stdout",
     "output_type": "stream",
     "text": [
      "<1487x1487 sparse matrix of type '<class 'numpy.int32'>'\n",
      "\twith 23842 stored elements in COOrdinate format>\n"
     ]
    }
   ],
   "source": [
    "(interactions, weights) = dataset.build_interactions(((x[0], x[1])\n",
    "                                                      for x in get_ratings(df)))\n",
    "\n",
    "print(repr(interactions))"
   ]
  },
  {
   "cell_type": "code",
   "execution_count": 308,
   "metadata": {},
   "outputs": [
    {
     "name": "stdout",
     "output_type": "stream",
     "text": [
      "<1487x1815 sparse matrix of type '<class 'numpy.float32'>'\n",
      "\twith 2974 stored elements in Compressed Sparse Row format>\n"
     ]
    }
   ],
   "source": [
    "item_features = dataset.build_item_features(((x[0], [x[1]])\n",
    "                                              for x in get_features(df)))\n",
    "print(repr(item_features))"
   ]
  },
  {
   "cell_type": "markdown",
   "metadata": {},
   "source": [
    "## Building a model"
   ]
  },
  {
   "cell_type": "code",
   "execution_count": 324,
   "metadata": {},
   "outputs": [
    {
     "data": {
      "text/plain": [
       "<lightfm.lightfm.LightFM at 0x1e0901d9848>"
      ]
     },
     "execution_count": 324,
     "metadata": {},
     "output_type": "execute_result"
    }
   ],
   "source": [
    "from lightfm import LightFM\n",
    "from lightfm.evaluation import precision_at_k\n",
    "from lightfm.evaluation import auc_score\n",
    "\n",
    "model = LightFM(loss='warp')\n",
    "model.fit(interactions, item_features=item_features, epochs=10)"
   ]
  },
  {
   "cell_type": "code",
   "execution_count": 325,
   "metadata": {},
   "outputs": [
    {
     "name": "stdout",
     "output_type": "stream",
     "text": [
      "Hybrid training set AUC: 0.95966834\n"
     ]
    }
   ],
   "source": [
    "# AUC Score\n",
    "train_auc = auc_score(model,\n",
    "                      interactions,\n",
    "                      item_features=item_features\n",
    "                     ).mean()\n",
    "print('Hybrid training set AUC: %s' % train_auc)"
   ]
  },
  {
   "cell_type": "code",
   "execution_count": 335,
   "metadata": {},
   "outputs": [],
   "source": [
    "scores = model.predict(df.user_id.values, df.hike_id.values, item_features=item_features)\n",
    "top_items = df['hike_id'][np.argsort(-scores)]"
   ]
  },
  {
   "cell_type": "code",
   "execution_count": null,
   "metadata": {},
   "outputs": [],
   "source": []
  }
 ],
 "metadata": {
  "kernelspec": {
   "display_name": "Python 3",
   "language": "python",
   "name": "python3"
  },
  "language_info": {
   "codemirror_mode": {
    "name": "ipython",
    "version": 3
   },
   "file_extension": ".py",
   "mimetype": "text/x-python",
   "name": "python",
   "nbconvert_exporter": "python",
   "pygments_lexer": "ipython3",
   "version": "3.7.7"
  }
 },
 "nbformat": 4,
 "nbformat_minor": 4
}
